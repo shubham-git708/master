{
 "cells": [
  {
   "cell_type": "markdown",
   "id": "d68ca9d7",
   "metadata": {},
   "source": [
    "# GRIP: The Sparks Foundation\n",
    "\n",
    "### Data Science and Business Analytics Intern\n",
    "\n",
    "### Author: Shubham Prasad\n",
    "\n",
    "## Task 5: Exploratory Data Analysis - Sports\n",
    "###                   (Level - Advanced)\n",
    "#### -> Perform 'Exploratory Data Analysis' on dataset 'Indian Premier League' .                \n",
    "#### -> As a sports analyst, find out the most successful teams, players and factors contributing for win or loss of the team.\n",
    "#### -> Suggest teams or players a company should endorse for its products."
   ]
  },
  {
   "cell_type": "markdown",
   "id": "9aca1dd9",
   "metadata": {},
   "source": [
    "## Step 1: Importing necessary libraries."
   ]
  },
  {
   "cell_type": "code",
   "execution_count": 2,
   "id": "642987c4",
   "metadata": {},
   "outputs": [],
   "source": [
    "library(dplyr)\n",
    "library(ggplot2)\n",
    "library(tidyr)\n",
    "library(shiny)\n",
    "library(plotly)\n",
    "library(corrr)\n",
    "library(treemap)\n",
    "library(treemapify)\n",
    "library(corrplot)\n"
   ]
  },
  {
   "cell_type": "markdown",
   "id": "05bcb59e",
   "metadata": {},
   "source": [
    "## Step 2: Reading the data from csv file."
   ]
  },
  {
   "cell_type": "code",
   "execution_count": 3,
   "id": "400508a9",
   "metadata": {},
   "outputs": [
    {
     "data": {
      "text/html": [
       "<table class=\"dataframe\">\n",
       "<caption>A data.frame: 6 × 18</caption>\n",
       "<thead>\n",
       "\t<tr><th></th><th scope=col>id</th><th scope=col>season</th><th scope=col>city</th><th scope=col>date</th><th scope=col>team1</th><th scope=col>team2</th><th scope=col>toss_winner</th><th scope=col>toss_decision</th><th scope=col>result</th><th scope=col>dl_applied</th><th scope=col>winner</th><th scope=col>win_by_runs</th><th scope=col>win_by_wickets</th><th scope=col>player_of_match</th><th scope=col>venue</th><th scope=col>umpire1</th><th scope=col>umpire2</th><th scope=col>umpire3</th></tr>\n",
       "\t<tr><th></th><th scope=col>&lt;int&gt;</th><th scope=col>&lt;int&gt;</th><th scope=col>&lt;chr&gt;</th><th scope=col>&lt;chr&gt;</th><th scope=col>&lt;chr&gt;</th><th scope=col>&lt;chr&gt;</th><th scope=col>&lt;chr&gt;</th><th scope=col>&lt;chr&gt;</th><th scope=col>&lt;chr&gt;</th><th scope=col>&lt;int&gt;</th><th scope=col>&lt;chr&gt;</th><th scope=col>&lt;int&gt;</th><th scope=col>&lt;int&gt;</th><th scope=col>&lt;chr&gt;</th><th scope=col>&lt;chr&gt;</th><th scope=col>&lt;chr&gt;</th><th scope=col>&lt;chr&gt;</th><th scope=col>&lt;chr&gt;</th></tr>\n",
       "</thead>\n",
       "<tbody>\n",
       "\t<tr><th scope=row>1</th><td>1</td><td>2017</td><td>Hyderabad</td><td>2017-04-05</td><td>Sunrisers Hyderabad        </td><td>Royal Challengers Bangalore</td><td>Royal Challengers Bangalore</td><td>field</td><td>normal</td><td>0</td><td>Sunrisers Hyderabad        </td><td>35</td><td> 0</td><td>Yuvraj Singh</td><td>Rajiv Gandhi International Stadium, Uppal</td><td>AY Dandekar   </td><td>NJ Llong     </td><td></td></tr>\n",
       "\t<tr><th scope=row>2</th><td>2</td><td>2017</td><td>Pune     </td><td>2017-04-06</td><td>Mumbai Indians             </td><td>Rising Pune Supergiant     </td><td>Rising Pune Supergiant     </td><td>field</td><td>normal</td><td>0</td><td>Rising Pune Supergiant     </td><td> 0</td><td> 7</td><td>SPD Smith   </td><td>Maharashtra Cricket Association Stadium  </td><td>A Nand Kishore</td><td>S Ravi       </td><td></td></tr>\n",
       "\t<tr><th scope=row>3</th><td>3</td><td>2017</td><td>Rajkot   </td><td>2017-04-07</td><td>Gujarat Lions              </td><td>Kolkata Knight Riders      </td><td>Kolkata Knight Riders      </td><td>field</td><td>normal</td><td>0</td><td>Kolkata Knight Riders      </td><td> 0</td><td>10</td><td>CA Lynn     </td><td>Saurashtra Cricket Association Stadium   </td><td>Nitin Menon   </td><td>CK Nandan    </td><td></td></tr>\n",
       "\t<tr><th scope=row>4</th><td>4</td><td>2017</td><td>Indore   </td><td>2017-04-08</td><td>Rising Pune Supergiant     </td><td>Kings XI Punjab            </td><td>Kings XI Punjab            </td><td>field</td><td>normal</td><td>0</td><td>Kings XI Punjab            </td><td> 0</td><td> 6</td><td>GJ Maxwell  </td><td>Holkar Cricket Stadium                   </td><td>AK Chaudhary  </td><td>C Shamshuddin</td><td></td></tr>\n",
       "\t<tr><th scope=row>5</th><td>5</td><td>2017</td><td>Bangalore</td><td>2017-04-08</td><td>Royal Challengers Bangalore</td><td>Delhi Daredevils           </td><td>Royal Challengers Bangalore</td><td>bat  </td><td>normal</td><td>0</td><td>Royal Challengers Bangalore</td><td>15</td><td> 0</td><td>KM Jadhav   </td><td>M Chinnaswamy Stadium                    </td><td>              </td><td>             </td><td></td></tr>\n",
       "\t<tr><th scope=row>6</th><td>6</td><td>2017</td><td>Hyderabad</td><td>2017-04-09</td><td>Gujarat Lions              </td><td>Sunrisers Hyderabad        </td><td>Sunrisers Hyderabad        </td><td>field</td><td>normal</td><td>0</td><td>Sunrisers Hyderabad        </td><td> 0</td><td> 9</td><td>Rashid Khan </td><td>Rajiv Gandhi International Stadium, Uppal</td><td>A Deshmukh    </td><td>NJ Llong     </td><td></td></tr>\n",
       "</tbody>\n",
       "</table>\n"
      ],
      "text/latex": [
       "A data.frame: 6 × 18\n",
       "\\begin{tabular}{r|llllllllllllllllll}\n",
       "  & id & season & city & date & team1 & team2 & toss\\_winner & toss\\_decision & result & dl\\_applied & winner & win\\_by\\_runs & win\\_by\\_wickets & player\\_of\\_match & venue & umpire1 & umpire2 & umpire3\\\\\n",
       "  & <int> & <int> & <chr> & <chr> & <chr> & <chr> & <chr> & <chr> & <chr> & <int> & <chr> & <int> & <int> & <chr> & <chr> & <chr> & <chr> & <chr>\\\\\n",
       "\\hline\n",
       "\t1 & 1 & 2017 & Hyderabad & 2017-04-05 & Sunrisers Hyderabad         & Royal Challengers Bangalore & Royal Challengers Bangalore & field & normal & 0 & Sunrisers Hyderabad         & 35 &  0 & Yuvraj Singh & Rajiv Gandhi International Stadium, Uppal & AY Dandekar    & NJ Llong      & \\\\\n",
       "\t2 & 2 & 2017 & Pune      & 2017-04-06 & Mumbai Indians              & Rising Pune Supergiant      & Rising Pune Supergiant      & field & normal & 0 & Rising Pune Supergiant      &  0 &  7 & SPD Smith    & Maharashtra Cricket Association Stadium   & A Nand Kishore & S Ravi        & \\\\\n",
       "\t3 & 3 & 2017 & Rajkot    & 2017-04-07 & Gujarat Lions               & Kolkata Knight Riders       & Kolkata Knight Riders       & field & normal & 0 & Kolkata Knight Riders       &  0 & 10 & CA Lynn      & Saurashtra Cricket Association Stadium    & Nitin Menon    & CK Nandan     & \\\\\n",
       "\t4 & 4 & 2017 & Indore    & 2017-04-08 & Rising Pune Supergiant      & Kings XI Punjab             & Kings XI Punjab             & field & normal & 0 & Kings XI Punjab             &  0 &  6 & GJ Maxwell   & Holkar Cricket Stadium                    & AK Chaudhary   & C Shamshuddin & \\\\\n",
       "\t5 & 5 & 2017 & Bangalore & 2017-04-08 & Royal Challengers Bangalore & Delhi Daredevils            & Royal Challengers Bangalore & bat   & normal & 0 & Royal Challengers Bangalore & 15 &  0 & KM Jadhav    & M Chinnaswamy Stadium                     &                &               & \\\\\n",
       "\t6 & 6 & 2017 & Hyderabad & 2017-04-09 & Gujarat Lions               & Sunrisers Hyderabad         & Sunrisers Hyderabad         & field & normal & 0 & Sunrisers Hyderabad         &  0 &  9 & Rashid Khan  & Rajiv Gandhi International Stadium, Uppal & A Deshmukh     & NJ Llong      & \\\\\n",
       "\\end{tabular}\n"
      ],
      "text/markdown": [
       "\n",
       "A data.frame: 6 × 18\n",
       "\n",
       "| <!--/--> | id &lt;int&gt; | season &lt;int&gt; | city &lt;chr&gt; | date &lt;chr&gt; | team1 &lt;chr&gt; | team2 &lt;chr&gt; | toss_winner &lt;chr&gt; | toss_decision &lt;chr&gt; | result &lt;chr&gt; | dl_applied &lt;int&gt; | winner &lt;chr&gt; | win_by_runs &lt;int&gt; | win_by_wickets &lt;int&gt; | player_of_match &lt;chr&gt; | venue &lt;chr&gt; | umpire1 &lt;chr&gt; | umpire2 &lt;chr&gt; | umpire3 &lt;chr&gt; |\n",
       "|---|---|---|---|---|---|---|---|---|---|---|---|---|---|---|---|---|---|---|\n",
       "| 1 | 1 | 2017 | Hyderabad | 2017-04-05 | Sunrisers Hyderabad         | Royal Challengers Bangalore | Royal Challengers Bangalore | field | normal | 0 | Sunrisers Hyderabad         | 35 |  0 | Yuvraj Singh | Rajiv Gandhi International Stadium, Uppal | AY Dandekar    | NJ Llong      | <!----> |\n",
       "| 2 | 2 | 2017 | Pune      | 2017-04-06 | Mumbai Indians              | Rising Pune Supergiant      | Rising Pune Supergiant      | field | normal | 0 | Rising Pune Supergiant      |  0 |  7 | SPD Smith    | Maharashtra Cricket Association Stadium   | A Nand Kishore | S Ravi        | <!----> |\n",
       "| 3 | 3 | 2017 | Rajkot    | 2017-04-07 | Gujarat Lions               | Kolkata Knight Riders       | Kolkata Knight Riders       | field | normal | 0 | Kolkata Knight Riders       |  0 | 10 | CA Lynn      | Saurashtra Cricket Association Stadium    | Nitin Menon    | CK Nandan     | <!----> |\n",
       "| 4 | 4 | 2017 | Indore    | 2017-04-08 | Rising Pune Supergiant      | Kings XI Punjab             | Kings XI Punjab             | field | normal | 0 | Kings XI Punjab             |  0 |  6 | GJ Maxwell   | Holkar Cricket Stadium                    | AK Chaudhary   | C Shamshuddin | <!----> |\n",
       "| 5 | 5 | 2017 | Bangalore | 2017-04-08 | Royal Challengers Bangalore | Delhi Daredevils            | Royal Challengers Bangalore | bat   | normal | 0 | Royal Challengers Bangalore | 15 |  0 | KM Jadhav    | M Chinnaswamy Stadium                     | <!----> | <!----> | <!----> |\n",
       "| 6 | 6 | 2017 | Hyderabad | 2017-04-09 | Gujarat Lions               | Sunrisers Hyderabad         | Sunrisers Hyderabad         | field | normal | 0 | Sunrisers Hyderabad         |  0 |  9 | Rashid Khan  | Rajiv Gandhi International Stadium, Uppal | A Deshmukh     | NJ Llong      | <!----> |\n",
       "\n"
      ],
      "text/plain": [
       "  id season city      date       team1                      \n",
       "1 1  2017   Hyderabad 2017-04-05 Sunrisers Hyderabad        \n",
       "2 2  2017   Pune      2017-04-06 Mumbai Indians             \n",
       "3 3  2017   Rajkot    2017-04-07 Gujarat Lions              \n",
       "4 4  2017   Indore    2017-04-08 Rising Pune Supergiant     \n",
       "5 5  2017   Bangalore 2017-04-08 Royal Challengers Bangalore\n",
       "6 6  2017   Hyderabad 2017-04-09 Gujarat Lions              \n",
       "  team2                       toss_winner                 toss_decision result\n",
       "1 Royal Challengers Bangalore Royal Challengers Bangalore field         normal\n",
       "2 Rising Pune Supergiant      Rising Pune Supergiant      field         normal\n",
       "3 Kolkata Knight Riders       Kolkata Knight Riders       field         normal\n",
       "4 Kings XI Punjab             Kings XI Punjab             field         normal\n",
       "5 Delhi Daredevils            Royal Challengers Bangalore bat           normal\n",
       "6 Sunrisers Hyderabad         Sunrisers Hyderabad         field         normal\n",
       "  dl_applied winner                      win_by_runs win_by_wickets\n",
       "1 0          Sunrisers Hyderabad         35           0            \n",
       "2 0          Rising Pune Supergiant       0           7            \n",
       "3 0          Kolkata Knight Riders        0          10            \n",
       "4 0          Kings XI Punjab              0           6            \n",
       "5 0          Royal Challengers Bangalore 15           0            \n",
       "6 0          Sunrisers Hyderabad          0           9            \n",
       "  player_of_match venue                                     umpire1       \n",
       "1 Yuvraj Singh    Rajiv Gandhi International Stadium, Uppal AY Dandekar   \n",
       "2 SPD Smith       Maharashtra Cricket Association Stadium   A Nand Kishore\n",
       "3 CA Lynn         Saurashtra Cricket Association Stadium    Nitin Menon   \n",
       "4 GJ Maxwell      Holkar Cricket Stadium                    AK Chaudhary  \n",
       "5 KM Jadhav       M Chinnaswamy Stadium                                   \n",
       "6 Rashid Khan     Rajiv Gandhi International Stadium, Uppal A Deshmukh    \n",
       "  umpire2       umpire3\n",
       "1 NJ Llong             \n",
       "2 S Ravi               \n",
       "3 CK Nandan            \n",
       "4 C Shamshuddin        \n",
       "5                      \n",
       "6 NJ Llong             "
      ]
     },
     "metadata": {},
     "output_type": "display_data"
    },
    {
     "data": {
      "text/html": [
       "<table class=\"dataframe\">\n",
       "<caption>A data.frame: 6 × 18</caption>\n",
       "<thead>\n",
       "\t<tr><th></th><th scope=col>id</th><th scope=col>season</th><th scope=col>city</th><th scope=col>date</th><th scope=col>team1</th><th scope=col>team2</th><th scope=col>toss_winner</th><th scope=col>toss_decision</th><th scope=col>result</th><th scope=col>dl_applied</th><th scope=col>winner</th><th scope=col>win_by_runs</th><th scope=col>win_by_wickets</th><th scope=col>player_of_match</th><th scope=col>venue</th><th scope=col>umpire1</th><th scope=col>umpire2</th><th scope=col>umpire3</th></tr>\n",
       "\t<tr><th></th><th scope=col>&lt;int&gt;</th><th scope=col>&lt;int&gt;</th><th scope=col>&lt;chr&gt;</th><th scope=col>&lt;chr&gt;</th><th scope=col>&lt;chr&gt;</th><th scope=col>&lt;chr&gt;</th><th scope=col>&lt;chr&gt;</th><th scope=col>&lt;chr&gt;</th><th scope=col>&lt;chr&gt;</th><th scope=col>&lt;int&gt;</th><th scope=col>&lt;chr&gt;</th><th scope=col>&lt;int&gt;</th><th scope=col>&lt;int&gt;</th><th scope=col>&lt;chr&gt;</th><th scope=col>&lt;chr&gt;</th><th scope=col>&lt;chr&gt;</th><th scope=col>&lt;chr&gt;</th><th scope=col>&lt;chr&gt;</th></tr>\n",
       "</thead>\n",
       "<tbody>\n",
       "\t<tr><th scope=row>751</th><td>11346</td><td>2019</td><td>Mohali       </td><td>05/05/19</td><td>Chennai Super Kings  </td><td>Kings XI Punjab    </td><td>Kings XI Punjab    </td><td>field</td><td>normal</td><td>0</td><td>Kings XI Punjab    </td><td>0</td><td>6</td><td>KL Rahul    </td><td>IS Bindra Stadium                 </td><td>KN Ananthapadmanabhan</td><td>C Shamshuddin </td><td>Bruce Oxenford         </td></tr>\n",
       "\t<tr><th scope=row>752</th><td>11347</td><td>2019</td><td>Mumbai       </td><td>05/05/19</td><td>Kolkata Knight Riders</td><td>Mumbai Indians     </td><td>Mumbai Indians     </td><td>field</td><td>normal</td><td>0</td><td>Mumbai Indians     </td><td>0</td><td>9</td><td>HH Pandya   </td><td>Wankhede Stadium                  </td><td>Nanda Kishore        </td><td>O Nandan      </td><td>S Ravi                 </td></tr>\n",
       "\t<tr><th scope=row>753</th><td>11412</td><td>2019</td><td>Chennai      </td><td>07/05/19</td><td>Chennai Super Kings  </td><td>Mumbai Indians     </td><td>Chennai Super Kings</td><td>bat  </td><td>normal</td><td>0</td><td>Mumbai Indians     </td><td>0</td><td>6</td><td>AS Yadav    </td><td>M. A. Chidambaram Stadium         </td><td>Nigel Llong          </td><td>Nitin Menon   </td><td>Ian Gould              </td></tr>\n",
       "\t<tr><th scope=row>754</th><td>11413</td><td>2019</td><td>Visakhapatnam</td><td>08/05/19</td><td>Sunrisers Hyderabad  </td><td>Delhi Capitals     </td><td>Delhi Capitals     </td><td>field</td><td>normal</td><td>0</td><td>Delhi Capitals     </td><td>0</td><td>2</td><td>RR Pant     </td><td>ACA-VDCA Stadium                  </td><td>                     </td><td>              </td><td>                       </td></tr>\n",
       "\t<tr><th scope=row>755</th><td>11414</td><td>2019</td><td>Visakhapatnam</td><td>10/05/19</td><td>Delhi Capitals       </td><td>Chennai Super Kings</td><td>Chennai Super Kings</td><td>field</td><td>normal</td><td>0</td><td>Chennai Super Kings</td><td>0</td><td>6</td><td>F du Plessis</td><td>ACA-VDCA Stadium                  </td><td>Sundaram Ravi        </td><td>Bruce Oxenford</td><td>Chettithody Shamshuddin</td></tr>\n",
       "\t<tr><th scope=row>756</th><td>11415</td><td>2019</td><td>Hyderabad    </td><td>12/05/19</td><td>Mumbai Indians       </td><td>Chennai Super Kings</td><td>Mumbai Indians     </td><td>bat  </td><td>normal</td><td>0</td><td>Mumbai Indians     </td><td>1</td><td>0</td><td>JJ Bumrah   </td><td>Rajiv Gandhi Intl. Cricket Stadium</td><td>Nitin Menon          </td><td>Ian Gould     </td><td>Nigel Llong            </td></tr>\n",
       "</tbody>\n",
       "</table>\n"
      ],
      "text/latex": [
       "A data.frame: 6 × 18\n",
       "\\begin{tabular}{r|llllllllllllllllll}\n",
       "  & id & season & city & date & team1 & team2 & toss\\_winner & toss\\_decision & result & dl\\_applied & winner & win\\_by\\_runs & win\\_by\\_wickets & player\\_of\\_match & venue & umpire1 & umpire2 & umpire3\\\\\n",
       "  & <int> & <int> & <chr> & <chr> & <chr> & <chr> & <chr> & <chr> & <chr> & <int> & <chr> & <int> & <int> & <chr> & <chr> & <chr> & <chr> & <chr>\\\\\n",
       "\\hline\n",
       "\t751 & 11346 & 2019 & Mohali        & 05/05/19 & Chennai Super Kings   & Kings XI Punjab     & Kings XI Punjab     & field & normal & 0 & Kings XI Punjab     & 0 & 6 & KL Rahul     & IS Bindra Stadium                  & KN Ananthapadmanabhan & C Shamshuddin  & Bruce Oxenford         \\\\\n",
       "\t752 & 11347 & 2019 & Mumbai        & 05/05/19 & Kolkata Knight Riders & Mumbai Indians      & Mumbai Indians      & field & normal & 0 & Mumbai Indians      & 0 & 9 & HH Pandya    & Wankhede Stadium                   & Nanda Kishore         & O Nandan       & S Ravi                 \\\\\n",
       "\t753 & 11412 & 2019 & Chennai       & 07/05/19 & Chennai Super Kings   & Mumbai Indians      & Chennai Super Kings & bat   & normal & 0 & Mumbai Indians      & 0 & 6 & AS Yadav     & M. A. Chidambaram Stadium          & Nigel Llong           & Nitin Menon    & Ian Gould              \\\\\n",
       "\t754 & 11413 & 2019 & Visakhapatnam & 08/05/19 & Sunrisers Hyderabad   & Delhi Capitals      & Delhi Capitals      & field & normal & 0 & Delhi Capitals      & 0 & 2 & RR Pant      & ACA-VDCA Stadium                   &                       &                &                        \\\\\n",
       "\t755 & 11414 & 2019 & Visakhapatnam & 10/05/19 & Delhi Capitals        & Chennai Super Kings & Chennai Super Kings & field & normal & 0 & Chennai Super Kings & 0 & 6 & F du Plessis & ACA-VDCA Stadium                   & Sundaram Ravi         & Bruce Oxenford & Chettithody Shamshuddin\\\\\n",
       "\t756 & 11415 & 2019 & Hyderabad     & 12/05/19 & Mumbai Indians        & Chennai Super Kings & Mumbai Indians      & bat   & normal & 0 & Mumbai Indians      & 1 & 0 & JJ Bumrah    & Rajiv Gandhi Intl. Cricket Stadium & Nitin Menon           & Ian Gould      & Nigel Llong            \\\\\n",
       "\\end{tabular}\n"
      ],
      "text/markdown": [
       "\n",
       "A data.frame: 6 × 18\n",
       "\n",
       "| <!--/--> | id &lt;int&gt; | season &lt;int&gt; | city &lt;chr&gt; | date &lt;chr&gt; | team1 &lt;chr&gt; | team2 &lt;chr&gt; | toss_winner &lt;chr&gt; | toss_decision &lt;chr&gt; | result &lt;chr&gt; | dl_applied &lt;int&gt; | winner &lt;chr&gt; | win_by_runs &lt;int&gt; | win_by_wickets &lt;int&gt; | player_of_match &lt;chr&gt; | venue &lt;chr&gt; | umpire1 &lt;chr&gt; | umpire2 &lt;chr&gt; | umpire3 &lt;chr&gt; |\n",
       "|---|---|---|---|---|---|---|---|---|---|---|---|---|---|---|---|---|---|---|\n",
       "| 751 | 11346 | 2019 | Mohali        | 05/05/19 | Chennai Super Kings   | Kings XI Punjab     | Kings XI Punjab     | field | normal | 0 | Kings XI Punjab     | 0 | 6 | KL Rahul     | IS Bindra Stadium                  | KN Ananthapadmanabhan | C Shamshuddin  | Bruce Oxenford          |\n",
       "| 752 | 11347 | 2019 | Mumbai        | 05/05/19 | Kolkata Knight Riders | Mumbai Indians      | Mumbai Indians      | field | normal | 0 | Mumbai Indians      | 0 | 9 | HH Pandya    | Wankhede Stadium                   | Nanda Kishore         | O Nandan       | S Ravi                  |\n",
       "| 753 | 11412 | 2019 | Chennai       | 07/05/19 | Chennai Super Kings   | Mumbai Indians      | Chennai Super Kings | bat   | normal | 0 | Mumbai Indians      | 0 | 6 | AS Yadav     | M. A. Chidambaram Stadium          | Nigel Llong           | Nitin Menon    | Ian Gould               |\n",
       "| 754 | 11413 | 2019 | Visakhapatnam | 08/05/19 | Sunrisers Hyderabad   | Delhi Capitals      | Delhi Capitals      | field | normal | 0 | Delhi Capitals      | 0 | 2 | RR Pant      | ACA-VDCA Stadium                   | <!----> | <!----> | <!----> |\n",
       "| 755 | 11414 | 2019 | Visakhapatnam | 10/05/19 | Delhi Capitals        | Chennai Super Kings | Chennai Super Kings | field | normal | 0 | Chennai Super Kings | 0 | 6 | F du Plessis | ACA-VDCA Stadium                   | Sundaram Ravi         | Bruce Oxenford | Chettithody Shamshuddin |\n",
       "| 756 | 11415 | 2019 | Hyderabad     | 12/05/19 | Mumbai Indians        | Chennai Super Kings | Mumbai Indians      | bat   | normal | 0 | Mumbai Indians      | 1 | 0 | JJ Bumrah    | Rajiv Gandhi Intl. Cricket Stadium | Nitin Menon           | Ian Gould      | Nigel Llong             |\n",
       "\n"
      ],
      "text/plain": [
       "    id    season city          date     team1                \n",
       "751 11346 2019   Mohali        05/05/19 Chennai Super Kings  \n",
       "752 11347 2019   Mumbai        05/05/19 Kolkata Knight Riders\n",
       "753 11412 2019   Chennai       07/05/19 Chennai Super Kings  \n",
       "754 11413 2019   Visakhapatnam 08/05/19 Sunrisers Hyderabad  \n",
       "755 11414 2019   Visakhapatnam 10/05/19 Delhi Capitals       \n",
       "756 11415 2019   Hyderabad     12/05/19 Mumbai Indians       \n",
       "    team2               toss_winner         toss_decision result dl_applied\n",
       "751 Kings XI Punjab     Kings XI Punjab     field         normal 0         \n",
       "752 Mumbai Indians      Mumbai Indians      field         normal 0         \n",
       "753 Mumbai Indians      Chennai Super Kings bat           normal 0         \n",
       "754 Delhi Capitals      Delhi Capitals      field         normal 0         \n",
       "755 Chennai Super Kings Chennai Super Kings field         normal 0         \n",
       "756 Chennai Super Kings Mumbai Indians      bat           normal 0         \n",
       "    winner              win_by_runs win_by_wickets player_of_match\n",
       "751 Kings XI Punjab     0           6              KL Rahul       \n",
       "752 Mumbai Indians      0           9              HH Pandya      \n",
       "753 Mumbai Indians      0           6              AS Yadav       \n",
       "754 Delhi Capitals      0           2              RR Pant        \n",
       "755 Chennai Super Kings 0           6              F du Plessis   \n",
       "756 Mumbai Indians      1           0              JJ Bumrah      \n",
       "    venue                              umpire1               umpire2       \n",
       "751 IS Bindra Stadium                  KN Ananthapadmanabhan C Shamshuddin \n",
       "752 Wankhede Stadium                   Nanda Kishore         O Nandan      \n",
       "753 M. A. Chidambaram Stadium          Nigel Llong           Nitin Menon   \n",
       "754 ACA-VDCA Stadium                                                       \n",
       "755 ACA-VDCA Stadium                   Sundaram Ravi         Bruce Oxenford\n",
       "756 Rajiv Gandhi Intl. Cricket Stadium Nitin Menon           Ian Gould     \n",
       "    umpire3                \n",
       "751 Bruce Oxenford         \n",
       "752 S Ravi                 \n",
       "753 Ian Gould              \n",
       "754                        \n",
       "755 Chettithody Shamshuddin\n",
       "756 Nigel Llong            "
      ]
     },
     "metadata": {},
     "output_type": "display_data"
    },
    {
     "data": {
      "text/html": [
       "<table class=\"dataframe\">\n",
       "<caption>A data.frame: 6 × 21</caption>\n",
       "<thead>\n",
       "\t<tr><th></th><th scope=col>match_id</th><th scope=col>inning</th><th scope=col>batting_team</th><th scope=col>bowling_team</th><th scope=col>over</th><th scope=col>ball</th><th scope=col>batsman</th><th scope=col>non_striker</th><th scope=col>bowler</th><th scope=col>is_super_over</th><th scope=col>...</th><th scope=col>bye_runs</th><th scope=col>legbye_runs</th><th scope=col>noball_runs</th><th scope=col>penalty_runs</th><th scope=col>batsman_runs</th><th scope=col>extra_runs</th><th scope=col>total_runs</th><th scope=col>player_dismissed</th><th scope=col>dismissal_kind</th><th scope=col>fielder</th></tr>\n",
       "\t<tr><th></th><th scope=col>&lt;int&gt;</th><th scope=col>&lt;int&gt;</th><th scope=col>&lt;chr&gt;</th><th scope=col>&lt;chr&gt;</th><th scope=col>&lt;int&gt;</th><th scope=col>&lt;int&gt;</th><th scope=col>&lt;chr&gt;</th><th scope=col>&lt;chr&gt;</th><th scope=col>&lt;chr&gt;</th><th scope=col>&lt;int&gt;</th><th scope=col>...</th><th scope=col>&lt;int&gt;</th><th scope=col>&lt;int&gt;</th><th scope=col>&lt;int&gt;</th><th scope=col>&lt;int&gt;</th><th scope=col>&lt;int&gt;</th><th scope=col>&lt;int&gt;</th><th scope=col>&lt;int&gt;</th><th scope=col>&lt;chr&gt;</th><th scope=col>&lt;chr&gt;</th><th scope=col>&lt;chr&gt;</th></tr>\n",
       "</thead>\n",
       "<tbody>\n",
       "\t<tr><th scope=row>1</th><td>1</td><td>1</td><td>Sunrisers Hyderabad</td><td>Royal Challengers Bangalore</td><td>1</td><td>1</td><td>DA Warner</td><td>S Dhawan </td><td>TS Mills</td><td>0</td><td>...</td><td>0</td><td>0</td><td>0</td><td>0</td><td>0</td><td>0</td><td>0</td><td></td><td></td><td></td></tr>\n",
       "\t<tr><th scope=row>2</th><td>1</td><td>1</td><td>Sunrisers Hyderabad</td><td>Royal Challengers Bangalore</td><td>1</td><td>2</td><td>DA Warner</td><td>S Dhawan </td><td>TS Mills</td><td>0</td><td>...</td><td>0</td><td>0</td><td>0</td><td>0</td><td>0</td><td>0</td><td>0</td><td></td><td></td><td></td></tr>\n",
       "\t<tr><th scope=row>3</th><td>1</td><td>1</td><td>Sunrisers Hyderabad</td><td>Royal Challengers Bangalore</td><td>1</td><td>3</td><td>DA Warner</td><td>S Dhawan </td><td>TS Mills</td><td>0</td><td>...</td><td>0</td><td>0</td><td>0</td><td>0</td><td>4</td><td>0</td><td>4</td><td></td><td></td><td></td></tr>\n",
       "\t<tr><th scope=row>4</th><td>1</td><td>1</td><td>Sunrisers Hyderabad</td><td>Royal Challengers Bangalore</td><td>1</td><td>4</td><td>DA Warner</td><td>S Dhawan </td><td>TS Mills</td><td>0</td><td>...</td><td>0</td><td>0</td><td>0</td><td>0</td><td>0</td><td>0</td><td>0</td><td></td><td></td><td></td></tr>\n",
       "\t<tr><th scope=row>5</th><td>1</td><td>1</td><td>Sunrisers Hyderabad</td><td>Royal Challengers Bangalore</td><td>1</td><td>5</td><td>DA Warner</td><td>S Dhawan </td><td>TS Mills</td><td>0</td><td>...</td><td>0</td><td>0</td><td>0</td><td>0</td><td>0</td><td>2</td><td>2</td><td></td><td></td><td></td></tr>\n",
       "\t<tr><th scope=row>6</th><td>1</td><td>1</td><td>Sunrisers Hyderabad</td><td>Royal Challengers Bangalore</td><td>1</td><td>6</td><td>S Dhawan </td><td>DA Warner</td><td>TS Mills</td><td>0</td><td>...</td><td>0</td><td>0</td><td>0</td><td>0</td><td>0</td><td>0</td><td>0</td><td></td><td></td><td></td></tr>\n",
       "</tbody>\n",
       "</table>\n"
      ],
      "text/latex": [
       "A data.frame: 6 × 21\n",
       "\\begin{tabular}{r|lllllllllllllllllllll}\n",
       "  & match\\_id & inning & batting\\_team & bowling\\_team & over & ball & batsman & non\\_striker & bowler & is\\_super\\_over & ... & bye\\_runs & legbye\\_runs & noball\\_runs & penalty\\_runs & batsman\\_runs & extra\\_runs & total\\_runs & player\\_dismissed & dismissal\\_kind & fielder\\\\\n",
       "  & <int> & <int> & <chr> & <chr> & <int> & <int> & <chr> & <chr> & <chr> & <int> & ... & <int> & <int> & <int> & <int> & <int> & <int> & <int> & <chr> & <chr> & <chr>\\\\\n",
       "\\hline\n",
       "\t1 & 1 & 1 & Sunrisers Hyderabad & Royal Challengers Bangalore & 1 & 1 & DA Warner & S Dhawan  & TS Mills & 0 & ... & 0 & 0 & 0 & 0 & 0 & 0 & 0 &  &  & \\\\\n",
       "\t2 & 1 & 1 & Sunrisers Hyderabad & Royal Challengers Bangalore & 1 & 2 & DA Warner & S Dhawan  & TS Mills & 0 & ... & 0 & 0 & 0 & 0 & 0 & 0 & 0 &  &  & \\\\\n",
       "\t3 & 1 & 1 & Sunrisers Hyderabad & Royal Challengers Bangalore & 1 & 3 & DA Warner & S Dhawan  & TS Mills & 0 & ... & 0 & 0 & 0 & 0 & 4 & 0 & 4 &  &  & \\\\\n",
       "\t4 & 1 & 1 & Sunrisers Hyderabad & Royal Challengers Bangalore & 1 & 4 & DA Warner & S Dhawan  & TS Mills & 0 & ... & 0 & 0 & 0 & 0 & 0 & 0 & 0 &  &  & \\\\\n",
       "\t5 & 1 & 1 & Sunrisers Hyderabad & Royal Challengers Bangalore & 1 & 5 & DA Warner & S Dhawan  & TS Mills & 0 & ... & 0 & 0 & 0 & 0 & 0 & 2 & 2 &  &  & \\\\\n",
       "\t6 & 1 & 1 & Sunrisers Hyderabad & Royal Challengers Bangalore & 1 & 6 & S Dhawan  & DA Warner & TS Mills & 0 & ... & 0 & 0 & 0 & 0 & 0 & 0 & 0 &  &  & \\\\\n",
       "\\end{tabular}\n"
      ],
      "text/markdown": [
       "\n",
       "A data.frame: 6 × 21\n",
       "\n",
       "| <!--/--> | match_id &lt;int&gt; | inning &lt;int&gt; | batting_team &lt;chr&gt; | bowling_team &lt;chr&gt; | over &lt;int&gt; | ball &lt;int&gt; | batsman &lt;chr&gt; | non_striker &lt;chr&gt; | bowler &lt;chr&gt; | is_super_over &lt;int&gt; | ... ... | bye_runs &lt;int&gt; | legbye_runs &lt;int&gt; | noball_runs &lt;int&gt; | penalty_runs &lt;int&gt; | batsman_runs &lt;int&gt; | extra_runs &lt;int&gt; | total_runs &lt;int&gt; | player_dismissed &lt;chr&gt; | dismissal_kind &lt;chr&gt; | fielder &lt;chr&gt; |\n",
       "|---|---|---|---|---|---|---|---|---|---|---|---|---|---|---|---|---|---|---|---|---|---|\n",
       "| 1 | 1 | 1 | Sunrisers Hyderabad | Royal Challengers Bangalore | 1 | 1 | DA Warner | S Dhawan  | TS Mills | 0 | ... | 0 | 0 | 0 | 0 | 0 | 0 | 0 | <!----> | <!----> | <!----> |\n",
       "| 2 | 1 | 1 | Sunrisers Hyderabad | Royal Challengers Bangalore | 1 | 2 | DA Warner | S Dhawan  | TS Mills | 0 | ... | 0 | 0 | 0 | 0 | 0 | 0 | 0 | <!----> | <!----> | <!----> |\n",
       "| 3 | 1 | 1 | Sunrisers Hyderabad | Royal Challengers Bangalore | 1 | 3 | DA Warner | S Dhawan  | TS Mills | 0 | ... | 0 | 0 | 0 | 0 | 4 | 0 | 4 | <!----> | <!----> | <!----> |\n",
       "| 4 | 1 | 1 | Sunrisers Hyderabad | Royal Challengers Bangalore | 1 | 4 | DA Warner | S Dhawan  | TS Mills | 0 | ... | 0 | 0 | 0 | 0 | 0 | 0 | 0 | <!----> | <!----> | <!----> |\n",
       "| 5 | 1 | 1 | Sunrisers Hyderabad | Royal Challengers Bangalore | 1 | 5 | DA Warner | S Dhawan  | TS Mills | 0 | ... | 0 | 0 | 0 | 0 | 0 | 2 | 2 | <!----> | <!----> | <!----> |\n",
       "| 6 | 1 | 1 | Sunrisers Hyderabad | Royal Challengers Bangalore | 1 | 6 | S Dhawan  | DA Warner | TS Mills | 0 | ... | 0 | 0 | 0 | 0 | 0 | 0 | 0 | <!----> | <!----> | <!----> |\n",
       "\n"
      ],
      "text/plain": [
       "  match_id inning batting_team        bowling_team                over ball\n",
       "1 1        1      Sunrisers Hyderabad Royal Challengers Bangalore 1    1   \n",
       "2 1        1      Sunrisers Hyderabad Royal Challengers Bangalore 1    2   \n",
       "3 1        1      Sunrisers Hyderabad Royal Challengers Bangalore 1    3   \n",
       "4 1        1      Sunrisers Hyderabad Royal Challengers Bangalore 1    4   \n",
       "5 1        1      Sunrisers Hyderabad Royal Challengers Bangalore 1    5   \n",
       "6 1        1      Sunrisers Hyderabad Royal Challengers Bangalore 1    6   \n",
       "  batsman   non_striker bowler   is_super_over ... bye_runs legbye_runs\n",
       "1 DA Warner S Dhawan    TS Mills 0             ... 0        0          \n",
       "2 DA Warner S Dhawan    TS Mills 0             ... 0        0          \n",
       "3 DA Warner S Dhawan    TS Mills 0             ... 0        0          \n",
       "4 DA Warner S Dhawan    TS Mills 0             ... 0        0          \n",
       "5 DA Warner S Dhawan    TS Mills 0             ... 0        0          \n",
       "6 S Dhawan  DA Warner   TS Mills 0             ... 0        0          \n",
       "  noball_runs penalty_runs batsman_runs extra_runs total_runs player_dismissed\n",
       "1 0           0            0            0          0                          \n",
       "2 0           0            0            0          0                          \n",
       "3 0           0            4            0          4                          \n",
       "4 0           0            0            0          0                          \n",
       "5 0           0            0            2          2                          \n",
       "6 0           0            0            0          0                          \n",
       "  dismissal_kind fielder\n",
       "1                       \n",
       "2                       \n",
       "3                       \n",
       "4                       \n",
       "5                       \n",
       "6                       "
      ]
     },
     "metadata": {},
     "output_type": "display_data"
    },
    {
     "data": {
      "text/html": [
       "<table class=\"dataframe\">\n",
       "<caption>A data.frame: 6 × 21</caption>\n",
       "<thead>\n",
       "\t<tr><th></th><th scope=col>match_id</th><th scope=col>inning</th><th scope=col>batting_team</th><th scope=col>bowling_team</th><th scope=col>over</th><th scope=col>ball</th><th scope=col>batsman</th><th scope=col>non_striker</th><th scope=col>bowler</th><th scope=col>is_super_over</th><th scope=col>...</th><th scope=col>bye_runs</th><th scope=col>legbye_runs</th><th scope=col>noball_runs</th><th scope=col>penalty_runs</th><th scope=col>batsman_runs</th><th scope=col>extra_runs</th><th scope=col>total_runs</th><th scope=col>player_dismissed</th><th scope=col>dismissal_kind</th><th scope=col>fielder</th></tr>\n",
       "\t<tr><th></th><th scope=col>&lt;int&gt;</th><th scope=col>&lt;int&gt;</th><th scope=col>&lt;chr&gt;</th><th scope=col>&lt;chr&gt;</th><th scope=col>&lt;int&gt;</th><th scope=col>&lt;int&gt;</th><th scope=col>&lt;chr&gt;</th><th scope=col>&lt;chr&gt;</th><th scope=col>&lt;chr&gt;</th><th scope=col>&lt;int&gt;</th><th scope=col>...</th><th scope=col>&lt;int&gt;</th><th scope=col>&lt;int&gt;</th><th scope=col>&lt;int&gt;</th><th scope=col>&lt;int&gt;</th><th scope=col>&lt;int&gt;</th><th scope=col>&lt;int&gt;</th><th scope=col>&lt;int&gt;</th><th scope=col>&lt;chr&gt;</th><th scope=col>&lt;chr&gt;</th><th scope=col>&lt;chr&gt;</th></tr>\n",
       "</thead>\n",
       "<tbody>\n",
       "\t<tr><th scope=row>179073</th><td>11415</td><td>2</td><td>Chennai Super Kings</td><td>Mumbai Indians</td><td>20</td><td>1</td><td>SR Watson</td><td>RA Jadeja</td><td>SL Malinga</td><td>0</td><td>...</td><td>0</td><td>0</td><td>0</td><td>0</td><td>1</td><td>0</td><td>1</td><td>         </td><td>       </td><td>         </td></tr>\n",
       "\t<tr><th scope=row>179074</th><td>11415</td><td>2</td><td>Chennai Super Kings</td><td>Mumbai Indians</td><td>20</td><td>2</td><td>RA Jadeja</td><td>SR Watson</td><td>SL Malinga</td><td>0</td><td>...</td><td>0</td><td>0</td><td>0</td><td>0</td><td>1</td><td>0</td><td>1</td><td>         </td><td>       </td><td>         </td></tr>\n",
       "\t<tr><th scope=row>179075</th><td>11415</td><td>2</td><td>Chennai Super Kings</td><td>Mumbai Indians</td><td>20</td><td>3</td><td>SR Watson</td><td>RA Jadeja</td><td>SL Malinga</td><td>0</td><td>...</td><td>0</td><td>0</td><td>0</td><td>0</td><td>2</td><td>0</td><td>2</td><td>         </td><td>       </td><td>         </td></tr>\n",
       "\t<tr><th scope=row>179076</th><td>11415</td><td>2</td><td>Chennai Super Kings</td><td>Mumbai Indians</td><td>20</td><td>4</td><td>SR Watson</td><td>RA Jadeja</td><td>SL Malinga</td><td>0</td><td>...</td><td>0</td><td>0</td><td>0</td><td>0</td><td>1</td><td>0</td><td>1</td><td>SR Watson</td><td>run out</td><td>KH Pandya</td></tr>\n",
       "\t<tr><th scope=row>179077</th><td>11415</td><td>2</td><td>Chennai Super Kings</td><td>Mumbai Indians</td><td>20</td><td>5</td><td>SN Thakur</td><td>RA Jadeja</td><td>SL Malinga</td><td>0</td><td>...</td><td>0</td><td>0</td><td>0</td><td>0</td><td>2</td><td>0</td><td>2</td><td>         </td><td>       </td><td>         </td></tr>\n",
       "\t<tr><th scope=row>179078</th><td>11415</td><td>2</td><td>Chennai Super Kings</td><td>Mumbai Indians</td><td>20</td><td>6</td><td>SN Thakur</td><td>RA Jadeja</td><td>SL Malinga</td><td>0</td><td>...</td><td>0</td><td>0</td><td>0</td><td>0</td><td>0</td><td>0</td><td>0</td><td>SN Thakur</td><td>lbw    </td><td>         </td></tr>\n",
       "</tbody>\n",
       "</table>\n"
      ],
      "text/latex": [
       "A data.frame: 6 × 21\n",
       "\\begin{tabular}{r|lllllllllllllllllllll}\n",
       "  & match\\_id & inning & batting\\_team & bowling\\_team & over & ball & batsman & non\\_striker & bowler & is\\_super\\_over & ... & bye\\_runs & legbye\\_runs & noball\\_runs & penalty\\_runs & batsman\\_runs & extra\\_runs & total\\_runs & player\\_dismissed & dismissal\\_kind & fielder\\\\\n",
       "  & <int> & <int> & <chr> & <chr> & <int> & <int> & <chr> & <chr> & <chr> & <int> & ... & <int> & <int> & <int> & <int> & <int> & <int> & <int> & <chr> & <chr> & <chr>\\\\\n",
       "\\hline\n",
       "\t179073 & 11415 & 2 & Chennai Super Kings & Mumbai Indians & 20 & 1 & SR Watson & RA Jadeja & SL Malinga & 0 & ... & 0 & 0 & 0 & 0 & 1 & 0 & 1 &           &         &          \\\\\n",
       "\t179074 & 11415 & 2 & Chennai Super Kings & Mumbai Indians & 20 & 2 & RA Jadeja & SR Watson & SL Malinga & 0 & ... & 0 & 0 & 0 & 0 & 1 & 0 & 1 &           &         &          \\\\\n",
       "\t179075 & 11415 & 2 & Chennai Super Kings & Mumbai Indians & 20 & 3 & SR Watson & RA Jadeja & SL Malinga & 0 & ... & 0 & 0 & 0 & 0 & 2 & 0 & 2 &           &         &          \\\\\n",
       "\t179076 & 11415 & 2 & Chennai Super Kings & Mumbai Indians & 20 & 4 & SR Watson & RA Jadeja & SL Malinga & 0 & ... & 0 & 0 & 0 & 0 & 1 & 0 & 1 & SR Watson & run out & KH Pandya\\\\\n",
       "\t179077 & 11415 & 2 & Chennai Super Kings & Mumbai Indians & 20 & 5 & SN Thakur & RA Jadeja & SL Malinga & 0 & ... & 0 & 0 & 0 & 0 & 2 & 0 & 2 &           &         &          \\\\\n",
       "\t179078 & 11415 & 2 & Chennai Super Kings & Mumbai Indians & 20 & 6 & SN Thakur & RA Jadeja & SL Malinga & 0 & ... & 0 & 0 & 0 & 0 & 0 & 0 & 0 & SN Thakur & lbw     &          \\\\\n",
       "\\end{tabular}\n"
      ],
      "text/markdown": [
       "\n",
       "A data.frame: 6 × 21\n",
       "\n",
       "| <!--/--> | match_id &lt;int&gt; | inning &lt;int&gt; | batting_team &lt;chr&gt; | bowling_team &lt;chr&gt; | over &lt;int&gt; | ball &lt;int&gt; | batsman &lt;chr&gt; | non_striker &lt;chr&gt; | bowler &lt;chr&gt; | is_super_over &lt;int&gt; | ... ... | bye_runs &lt;int&gt; | legbye_runs &lt;int&gt; | noball_runs &lt;int&gt; | penalty_runs &lt;int&gt; | batsman_runs &lt;int&gt; | extra_runs &lt;int&gt; | total_runs &lt;int&gt; | player_dismissed &lt;chr&gt; | dismissal_kind &lt;chr&gt; | fielder &lt;chr&gt; |\n",
       "|---|---|---|---|---|---|---|---|---|---|---|---|---|---|---|---|---|---|---|---|---|---|\n",
       "| 179073 | 11415 | 2 | Chennai Super Kings | Mumbai Indians | 20 | 1 | SR Watson | RA Jadeja | SL Malinga | 0 | ... | 0 | 0 | 0 | 0 | 1 | 0 | 1 | <!----> | <!----> | <!----> |\n",
       "| 179074 | 11415 | 2 | Chennai Super Kings | Mumbai Indians | 20 | 2 | RA Jadeja | SR Watson | SL Malinga | 0 | ... | 0 | 0 | 0 | 0 | 1 | 0 | 1 | <!----> | <!----> | <!----> |\n",
       "| 179075 | 11415 | 2 | Chennai Super Kings | Mumbai Indians | 20 | 3 | SR Watson | RA Jadeja | SL Malinga | 0 | ... | 0 | 0 | 0 | 0 | 2 | 0 | 2 | <!----> | <!----> | <!----> |\n",
       "| 179076 | 11415 | 2 | Chennai Super Kings | Mumbai Indians | 20 | 4 | SR Watson | RA Jadeja | SL Malinga | 0 | ... | 0 | 0 | 0 | 0 | 1 | 0 | 1 | SR Watson | run out | KH Pandya |\n",
       "| 179077 | 11415 | 2 | Chennai Super Kings | Mumbai Indians | 20 | 5 | SN Thakur | RA Jadeja | SL Malinga | 0 | ... | 0 | 0 | 0 | 0 | 2 | 0 | 2 | <!----> | <!----> | <!----> |\n",
       "| 179078 | 11415 | 2 | Chennai Super Kings | Mumbai Indians | 20 | 6 | SN Thakur | RA Jadeja | SL Malinga | 0 | ... | 0 | 0 | 0 | 0 | 0 | 0 | 0 | SN Thakur | lbw     | <!----> |\n",
       "\n"
      ],
      "text/plain": [
       "       match_id inning batting_team        bowling_team   over ball batsman  \n",
       "179073 11415    2      Chennai Super Kings Mumbai Indians 20   1    SR Watson\n",
       "179074 11415    2      Chennai Super Kings Mumbai Indians 20   2    RA Jadeja\n",
       "179075 11415    2      Chennai Super Kings Mumbai Indians 20   3    SR Watson\n",
       "179076 11415    2      Chennai Super Kings Mumbai Indians 20   4    SR Watson\n",
       "179077 11415    2      Chennai Super Kings Mumbai Indians 20   5    SN Thakur\n",
       "179078 11415    2      Chennai Super Kings Mumbai Indians 20   6    SN Thakur\n",
       "       non_striker bowler     is_super_over ... bye_runs legbye_runs\n",
       "179073 RA Jadeja   SL Malinga 0             ... 0        0          \n",
       "179074 SR Watson   SL Malinga 0             ... 0        0          \n",
       "179075 RA Jadeja   SL Malinga 0             ... 0        0          \n",
       "179076 RA Jadeja   SL Malinga 0             ... 0        0          \n",
       "179077 RA Jadeja   SL Malinga 0             ... 0        0          \n",
       "179078 RA Jadeja   SL Malinga 0             ... 0        0          \n",
       "       noball_runs penalty_runs batsman_runs extra_runs total_runs\n",
       "179073 0           0            1            0          1         \n",
       "179074 0           0            1            0          1         \n",
       "179075 0           0            2            0          2         \n",
       "179076 0           0            1            0          1         \n",
       "179077 0           0            2            0          2         \n",
       "179078 0           0            0            0          0         \n",
       "       player_dismissed dismissal_kind fielder  \n",
       "179073                                          \n",
       "179074                                          \n",
       "179075                                          \n",
       "179076 SR Watson        run out        KH Pandya\n",
       "179077                                          \n",
       "179078 SN Thakur        lbw                     "
      ]
     },
     "metadata": {},
     "output_type": "display_data"
    }
   ],
   "source": [
    "matches <- read.csv(\"C:\\\\Users\\\\ADMIN\\\\OneDrive\\\\Desktop\\\\Internship Tasks\\\\matches.csv\",stringsAsFactors = FALSE)\n",
    "head(matches)\n",
    "tail(matches)\n",
    "\n",
    "deliveries <- read.csv(\"C:\\\\Users\\\\ADMIN\\\\OneDrive\\\\Desktop\\\\Internship Tasks\\\\deliveries.csv\",stringsAsFactors = FALSE)\n",
    "head(deliveries)\n",
    "tail(deliveries)"
   ]
  },
  {
   "cell_type": "markdown",
   "id": "80120184",
   "metadata": {},
   "source": [
    "## Step 3: Finding out more about dataset."
   ]
  },
  {
   "cell_type": "code",
   "execution_count": 4,
   "id": "8bf2662b",
   "metadata": {},
   "outputs": [
    {
     "data": {
      "text/plain": [
       "       id              season         city               date          \n",
       " Min.   :    1.0   Min.   :2008   Length:756         Length:756        \n",
       " 1st Qu.:  189.8   1st Qu.:2011   Class :character   Class :character  \n",
       " Median :  378.5   Median :2013   Mode  :character   Mode  :character  \n",
       " Mean   : 1792.2   Mean   :2013                                        \n",
       " 3rd Qu.:  567.2   3rd Qu.:2016                                        \n",
       " Max.   :11415.0   Max.   :2019                                        \n",
       "    team1              team2           toss_winner        toss_decision     \n",
       " Length:756         Length:756         Length:756         Length:756        \n",
       " Class :character   Class :character   Class :character   Class :character  \n",
       " Mode  :character   Mode  :character   Mode  :character   Mode  :character  \n",
       "                                                                            \n",
       "                                                                            \n",
       "                                                                            \n",
       "    result            dl_applied         winner           win_by_runs    \n",
       " Length:756         Min.   :0.00000   Length:756         Min.   :  0.00  \n",
       " Class :character   1st Qu.:0.00000   Class :character   1st Qu.:  0.00  \n",
       " Mode  :character   Median :0.00000   Mode  :character   Median :  0.00  \n",
       "                    Mean   :0.02513                      Mean   : 13.28  \n",
       "                    3rd Qu.:0.00000                      3rd Qu.: 19.00  \n",
       "                    Max.   :1.00000                      Max.   :146.00  \n",
       " win_by_wickets   player_of_match       venue             umpire1         \n",
       " Min.   : 0.000   Length:756         Length:756         Length:756        \n",
       " 1st Qu.: 0.000   Class :character   Class :character   Class :character  \n",
       " Median : 4.000   Mode  :character   Mode  :character   Mode  :character  \n",
       " Mean   : 3.351                                                           \n",
       " 3rd Qu.: 6.000                                                           \n",
       " Max.   :10.000                                                           \n",
       "   umpire2            umpire3         \n",
       " Length:756         Length:756        \n",
       " Class :character   Class :character  \n",
       " Mode  :character   Mode  :character  \n",
       "                                      \n",
       "                                      \n",
       "                                      "
      ]
     },
     "metadata": {},
     "output_type": "display_data"
    },
    {
     "data": {
      "text/plain": [
       "    match_id         inning      batting_team       bowling_team      \n",
       " Min.   :    1   Min.   :1.000   Length:179078      Length:179078     \n",
       " 1st Qu.:  190   1st Qu.:1.000   Class :character   Class :character  \n",
       " Median :  379   Median :1.000   Mode  :character   Mode  :character  \n",
       " Mean   : 1802   Mean   :1.483                                        \n",
       " 3rd Qu.:  567   3rd Qu.:2.000                                        \n",
       " Max.   :11415   Max.   :5.000                                        \n",
       "      over            ball         batsman          non_striker       \n",
       " Min.   : 1.00   Min.   :1.000   Length:179078      Length:179078     \n",
       " 1st Qu.: 5.00   1st Qu.:2.000   Class :character   Class :character  \n",
       " Median :10.00   Median :4.000   Mode  :character   Mode  :character  \n",
       " Mean   :10.16   Mean   :3.616                                        \n",
       " 3rd Qu.:15.00   3rd Qu.:5.000                                        \n",
       " Max.   :20.00   Max.   :9.000                                        \n",
       "    bowler          is_super_over         wide_runs          bye_runs       \n",
       " Length:179078      Min.   :0.0000000   Min.   :0.00000   Min.   :0.000000  \n",
       " Class :character   1st Qu.:0.0000000   1st Qu.:0.00000   1st Qu.:0.000000  \n",
       " Mode  :character   Median :0.0000000   Median :0.00000   Median :0.000000  \n",
       "                    Mean   :0.0004523   Mean   :0.03672   Mean   :0.004936  \n",
       "                    3rd Qu.:0.0000000   3rd Qu.:0.00000   3rd Qu.:0.000000  \n",
       "                    Max.   :1.0000000   Max.   :5.00000   Max.   :4.000000  \n",
       "  legbye_runs       noball_runs        penalty_runs      batsman_runs  \n",
       " Min.   :0.00000   Min.   :0.000000   Min.   :0.0e+00   Min.   :0.000  \n",
       " 1st Qu.:0.00000   1st Qu.:0.000000   1st Qu.:0.0e+00   1st Qu.:0.000  \n",
       " Median :0.00000   Median :0.000000   Median :0.0e+00   Median :1.000  \n",
       " Mean   :0.02114   Mean   :0.004183   Mean   :5.6e-05   Mean   :1.247  \n",
       " 3rd Qu.:0.00000   3rd Qu.:0.000000   3rd Qu.:0.0e+00   3rd Qu.:1.000  \n",
       " Max.   :5.00000   Max.   :5.000000   Max.   :5.0e+00   Max.   :7.000  \n",
       "   extra_runs        total_runs     player_dismissed   dismissal_kind    \n",
       " Min.   :0.00000   Min.   : 0.000   Length:179078      Length:179078     \n",
       " 1st Qu.:0.00000   1st Qu.: 0.000   Class :character   Class :character  \n",
       " Median :0.00000   Median : 1.000   Mode  :character   Mode  :character  \n",
       " Mean   :0.06703   Mean   : 1.314                                        \n",
       " 3rd Qu.:0.00000   3rd Qu.: 1.000                                        \n",
       " Max.   :7.00000   Max.   :10.000                                        \n",
       "   fielder         \n",
       " Length:179078     \n",
       " Class :character  \n",
       " Mode  :character  \n",
       "                   \n",
       "                   \n",
       "                   "
      ]
     },
     "metadata": {},
     "output_type": "display_data"
    }
   ],
   "source": [
    "summary(matches)\n",
    "summary(deliveries)"
   ]
  },
  {
   "cell_type": "markdown",
   "id": "200ae558",
   "metadata": {},
   "source": [
    "## Step 4 : Analysis and Visualization. "
   ]
  },
  {
   "cell_type": "markdown",
   "id": "acc6be3d",
   "metadata": {},
   "source": [
    "### 1)Total matches played each Season. "
   ]
  },
  {
   "cell_type": "code",
   "execution_count": 5,
   "id": "e8e44971",
   "metadata": {},
   "outputs": [
    {
     "data": {
      "text/plain": [
       "\n",
       "2008 2009 2010 2011 2012 2013 2014 2015 2016 2017 2018 2019 \n",
       "  58   57   60   73   74   76   60   59   60   59   60   60 "
      ]
     },
     "metadata": {},
     "output_type": "display_data"
    },
    {
     "data": {
      "image/png": "[encoded data removed]",
      "text/plain": [
       "Plot with title \"Total matches played each Season\""
      ]
     },
     "metadata": {
      "image/png": {
       "height": 420,
       "width": 420
      }
     },
     "output_type": "display_data"
    }
   ],
   "source": [
    "matches_per_season <- table(matches$season)\n",
    "matches_per_season\n",
    "barplot(matches_per_season,main = \"Total matches played each Season\", xlab = 'Season' , ylab = 'No. of Matches', col = 'midnightblue',las=2, ylim = c(0,80))"
   ]
  },
  {
   "cell_type": "markdown",
   "id": "d67282e7",
   "metadata": {},
   "source": [
    "##### Observation : 2013 recorded the maximum number of IPL matches played, with the total being 76."
   ]
  },
  {
   "cell_type": "markdown",
   "id": "e7dd933a",
   "metadata": {},
   "source": [
    "### 2) Venues with maximum number of matches played"
   ]
  },
  {
   "cell_type": "code",
   "execution_count": 6,
   "id": "66bb94c2",
   "metadata": {},
   "outputs": [
    {
     "data": {
      "text/html": [
       "<table class=\"dataframe\">\n",
       "<caption>A tibble: 41 × 2</caption>\n",
       "<thead>\n",
       "\t<tr><th scope=col>venue</th><th scope=col>Total_matches</th></tr>\n",
       "\t<tr><th scope=col>&lt;chr&gt;</th><th scope=col>&lt;int&gt;</th></tr>\n",
       "</thead>\n",
       "<tbody>\n",
       "\t<tr><td>Eden Gardens                                        </td><td>77</td></tr>\n",
       "\t<tr><td>M Chinnaswamy Stadium                               </td><td>73</td></tr>\n",
       "\t<tr><td>Wankhede Stadium                                    </td><td>73</td></tr>\n",
       "\t<tr><td>Feroz Shah Kotla                                    </td><td>67</td></tr>\n",
       "\t<tr><td>Rajiv Gandhi International Stadium, Uppal           </td><td>56</td></tr>\n",
       "\t<tr><td>MA Chidambaram Stadium, Chepauk                     </td><td>49</td></tr>\n",
       "\t<tr><td>Sawai Mansingh Stadium                              </td><td>47</td></tr>\n",
       "\t<tr><td>Punjab Cricket Association Stadium, Mohali          </td><td>35</td></tr>\n",
       "\t<tr><td>Maharashtra Cricket Association Stadium             </td><td>21</td></tr>\n",
       "\t<tr><td>Dr DY Patil Sports Academy                          </td><td>17</td></tr>\n",
       "\t<tr><td>Subrata Roy Sahara Stadium                          </td><td>17</td></tr>\n",
       "\t<tr><td>Kingsmead                                           </td><td>15</td></tr>\n",
       "\t<tr><td>Punjab Cricket Association IS Bindra Stadium, Mohali</td><td>14</td></tr>\n",
       "\t<tr><td>Sardar Patel Stadium, Motera                        </td><td>12</td></tr>\n",
       "\t<tr><td>SuperSport Park                                     </td><td>12</td></tr>\n",
       "\t<tr><td>Brabourne Stadium                                   </td><td>11</td></tr>\n",
       "\t<tr><td>Dr. Y.S. Rajasekhara Reddy ACA-VDCA Cricket Stadium </td><td>11</td></tr>\n",
       "\t<tr><td>Saurashtra Cricket Association Stadium              </td><td>10</td></tr>\n",
       "\t<tr><td>Himachal Pradesh Cricket Association Stadium        </td><td> 9</td></tr>\n",
       "\t<tr><td>Holkar Cricket Stadium                              </td><td> 9</td></tr>\n",
       "\t<tr><td>M. A. Chidambaram Stadium                           </td><td> 8</td></tr>\n",
       "\t<tr><td>New Wanderers Stadium                               </td><td> 8</td></tr>\n",
       "\t<tr><td>Rajiv Gandhi Intl. Cricket Stadium                  </td><td> 8</td></tr>\n",
       "\t<tr><td>Barabati Stadium                                    </td><td> 7</td></tr>\n",
       "\t<tr><td>Dubai International Cricket Stadium                 </td><td> 7</td></tr>\n",
       "\t<tr><td>Feroz Shah Kotla Ground                             </td><td> 7</td></tr>\n",
       "\t<tr><td>IS Bindra Stadium                                   </td><td> 7</td></tr>\n",
       "\t<tr><td>JSCA International Stadium Complex                  </td><td> 7</td></tr>\n",
       "\t<tr><td>M. Chinnaswamy Stadium                              </td><td> 7</td></tr>\n",
       "\t<tr><td>Newlands                                            </td><td> 7</td></tr>\n",
       "\t<tr><td>Sheikh Zayed Stadium                                </td><td> 7</td></tr>\n",
       "\t<tr><td>St George's Park                                    </td><td> 7</td></tr>\n",
       "\t<tr><td>Shaheed Veer Narayan Singh International Stadium    </td><td> 6</td></tr>\n",
       "\t<tr><td>Sharjah Cricket Stadium                             </td><td> 6</td></tr>\n",
       "\t<tr><td>Nehru Stadium                                       </td><td> 5</td></tr>\n",
       "\t<tr><td>Green Park                                          </td><td> 4</td></tr>\n",
       "\t<tr><td>Buffalo Park                                        </td><td> 3</td></tr>\n",
       "\t<tr><td>De Beers Diamond Oval                               </td><td> 3</td></tr>\n",
       "\t<tr><td>Vidarbha Cricket Association Stadium, Jamtha        </td><td> 3</td></tr>\n",
       "\t<tr><td>ACA-VDCA Stadium                                    </td><td> 2</td></tr>\n",
       "\t<tr><td>OUTsurance Oval                                     </td><td> 2</td></tr>\n",
       "</tbody>\n",
       "</table>\n"
      ],
      "text/latex": [
       "A tibble: 41 × 2\n",
       "\\begin{tabular}{ll}\n",
       " venue & Total\\_matches\\\\\n",
       " <chr> & <int>\\\\\n",
       "\\hline\n",
       "\t Eden Gardens                                         & 77\\\\\n",
       "\t M Chinnaswamy Stadium                                & 73\\\\\n",
       "\t Wankhede Stadium                                     & 73\\\\\n",
       "\t Feroz Shah Kotla                                     & 67\\\\\n",
       "\t Rajiv Gandhi International Stadium, Uppal            & 56\\\\\n",
       "\t MA Chidambaram Stadium, Chepauk                      & 49\\\\\n",
       "\t Sawai Mansingh Stadium                               & 47\\\\\n",
       "\t Punjab Cricket Association Stadium, Mohali           & 35\\\\\n",
       "\t Maharashtra Cricket Association Stadium              & 21\\\\\n",
       "\t Dr DY Patil Sports Academy                           & 17\\\\\n",
       "\t Subrata Roy Sahara Stadium                           & 17\\\\\n",
       "\t Kingsmead                                            & 15\\\\\n",
       "\t Punjab Cricket Association IS Bindra Stadium, Mohali & 14\\\\\n",
       "\t Sardar Patel Stadium, Motera                         & 12\\\\\n",
       "\t SuperSport Park                                      & 12\\\\\n",
       "\t Brabourne Stadium                                    & 11\\\\\n",
       "\t Dr. Y.S. Rajasekhara Reddy ACA-VDCA Cricket Stadium  & 11\\\\\n",
       "\t Saurashtra Cricket Association Stadium               & 10\\\\\n",
       "\t Himachal Pradesh Cricket Association Stadium         &  9\\\\\n",
       "\t Holkar Cricket Stadium                               &  9\\\\\n",
       "\t M. A. Chidambaram Stadium                            &  8\\\\\n",
       "\t New Wanderers Stadium                                &  8\\\\\n",
       "\t Rajiv Gandhi Intl. Cricket Stadium                   &  8\\\\\n",
       "\t Barabati Stadium                                     &  7\\\\\n",
       "\t Dubai International Cricket Stadium                  &  7\\\\\n",
       "\t Feroz Shah Kotla Ground                              &  7\\\\\n",
       "\t IS Bindra Stadium                                    &  7\\\\\n",
       "\t JSCA International Stadium Complex                   &  7\\\\\n",
       "\t M. Chinnaswamy Stadium                               &  7\\\\\n",
       "\t Newlands                                             &  7\\\\\n",
       "\t Sheikh Zayed Stadium                                 &  7\\\\\n",
       "\t St George's Park                                     &  7\\\\\n",
       "\t Shaheed Veer Narayan Singh International Stadium     &  6\\\\\n",
       "\t Sharjah Cricket Stadium                              &  6\\\\\n",
       "\t Nehru Stadium                                        &  5\\\\\n",
       "\t Green Park                                           &  4\\\\\n",
       "\t Buffalo Park                                         &  3\\\\\n",
       "\t De Beers Diamond Oval                                &  3\\\\\n",
       "\t Vidarbha Cricket Association Stadium, Jamtha         &  3\\\\\n",
       "\t ACA-VDCA Stadium                                     &  2\\\\\n",
       "\t OUTsurance Oval                                      &  2\\\\\n",
       "\\end{tabular}\n"
      ],
      "text/markdown": [
       "\n",
       "A tibble: 41 × 2\n",
       "\n",
       "| venue &lt;chr&gt; | Total_matches &lt;int&gt; |\n",
       "|---|---|\n",
       "| Eden Gardens                                         | 77 |\n",
       "| M Chinnaswamy Stadium                                | 73 |\n",
       "| Wankhede Stadium                                     | 73 |\n",
       "| Feroz Shah Kotla                                     | 67 |\n",
       "| Rajiv Gandhi International Stadium, Uppal            | 56 |\n",
       "| MA Chidambaram Stadium, Chepauk                      | 49 |\n",
       "| Sawai Mansingh Stadium                               | 47 |\n",
       "| Punjab Cricket Association Stadium, Mohali           | 35 |\n",
       "| Maharashtra Cricket Association Stadium              | 21 |\n",
       "| Dr DY Patil Sports Academy                           | 17 |\n",
       "| Subrata Roy Sahara Stadium                           | 17 |\n",
       "| Kingsmead                                            | 15 |\n",
       "| Punjab Cricket Association IS Bindra Stadium, Mohali | 14 |\n",
       "| Sardar Patel Stadium, Motera                         | 12 |\n",
       "| SuperSport Park                                      | 12 |\n",
       "| Brabourne Stadium                                    | 11 |\n",
       "| Dr. Y.S. Rajasekhara Reddy ACA-VDCA Cricket Stadium  | 11 |\n",
       "| Saurashtra Cricket Association Stadium               | 10 |\n",
       "| Himachal Pradesh Cricket Association Stadium         |  9 |\n",
       "| Holkar Cricket Stadium                               |  9 |\n",
       "| M. A. Chidambaram Stadium                            |  8 |\n",
       "| New Wanderers Stadium                                |  8 |\n",
       "| Rajiv Gandhi Intl. Cricket Stadium                   |  8 |\n",
       "| Barabati Stadium                                     |  7 |\n",
       "| Dubai International Cricket Stadium                  |  7 |\n",
       "| Feroz Shah Kotla Ground                              |  7 |\n",
       "| IS Bindra Stadium                                    |  7 |\n",
       "| JSCA International Stadium Complex                   |  7 |\n",
       "| M. Chinnaswamy Stadium                               |  7 |\n",
       "| Newlands                                             |  7 |\n",
       "| Sheikh Zayed Stadium                                 |  7 |\n",
       "| St George's Park                                     |  7 |\n",
       "| Shaheed Veer Narayan Singh International Stadium     |  6 |\n",
       "| Sharjah Cricket Stadium                              |  6 |\n",
       "| Nehru Stadium                                        |  5 |\n",
       "| Green Park                                           |  4 |\n",
       "| Buffalo Park                                         |  3 |\n",
       "| De Beers Diamond Oval                                |  3 |\n",
       "| Vidarbha Cricket Association Stadium, Jamtha         |  3 |\n",
       "| ACA-VDCA Stadium                                     |  2 |\n",
       "| OUTsurance Oval                                      |  2 |\n",
       "\n"
      ],
      "text/plain": [
       "   venue                                                Total_matches\n",
       "1  Eden Gardens                                         77           \n",
       "2  M Chinnaswamy Stadium                                73           \n",
       "3  Wankhede Stadium                                     73           \n",
       "4  Feroz Shah Kotla                                     67           \n",
       "5  Rajiv Gandhi International Stadium, Uppal            56           \n",
       "6  MA Chidambaram Stadium, Chepauk                      49           \n",
       "7  Sawai Mansingh Stadium                               47           \n",
       "8  Punjab Cricket Association Stadium, Mohali           35           \n",
       "9  Maharashtra Cricket Association Stadium              21           \n",
       "10 Dr DY Patil Sports Academy                           17           \n",
       "11 Subrata Roy Sahara Stadium                           17           \n",
       "12 Kingsmead                                            15           \n",
       "13 Punjab Cricket Association IS Bindra Stadium, Mohali 14           \n",
       "14 Sardar Patel Stadium, Motera                         12           \n",
       "15 SuperSport Park                                      12           \n",
       "16 Brabourne Stadium                                    11           \n",
       "17 Dr. Y.S. Rajasekhara Reddy ACA-VDCA Cricket Stadium  11           \n",
       "18 Saurashtra Cricket Association Stadium               10           \n",
       "19 Himachal Pradesh Cricket Association Stadium          9           \n",
       "20 Holkar Cricket Stadium                                9           \n",
       "21 M. A. Chidambaram Stadium                             8           \n",
       "22 New Wanderers Stadium                                 8           \n",
       "23 Rajiv Gandhi Intl. Cricket Stadium                    8           \n",
       "24 Barabati Stadium                                      7           \n",
       "25 Dubai International Cricket Stadium                   7           \n",
       "26 Feroz Shah Kotla Ground                               7           \n",
       "27 IS Bindra Stadium                                     7           \n",
       "28 JSCA International Stadium Complex                    7           \n",
       "29 M. Chinnaswamy Stadium                                7           \n",
       "30 Newlands                                              7           \n",
       "31 Sheikh Zayed Stadium                                  7           \n",
       "32 St George's Park                                      7           \n",
       "33 Shaheed Veer Narayan Singh International Stadium      6           \n",
       "34 Sharjah Cricket Stadium                               6           \n",
       "35 Nehru Stadium                                         5           \n",
       "36 Green Park                                            4           \n",
       "37 Buffalo Park                                          3           \n",
       "38 De Beers Diamond Oval                                 3           \n",
       "39 Vidarbha Cricket Association Stadium, Jamtha          3           \n",
       "40 ACA-VDCA Stadium                                      2           \n",
       "41 OUTsurance Oval                                       2           "
      ]
     },
     "metadata": {},
     "output_type": "display_data"
    },
    {
     "data": {
      "image/png": "[encoded data removed]",
      "text/plain": [
       "plot without title"
      ]
     },
     "metadata": {
      "image/png": {
       "height": 420,
       "width": 420
      }
     },
     "output_type": "display_data"
    }
   ],
   "source": [
    "matches_by_venue = matches %>%\n",
    "                   group_by(venue) %>%\n",
    "                   summarize(Total_matches = n()) %>%\n",
    "                   arrange(desc(Total_matches))\n",
    "matches_by_venue\n",
    "\n",
    "ggplot(matches_by_venue,aes(Total_matches, venue, colour = Total_matches)) + geom_count() + \n",
    "ggtitle(\" No. of Matches played in Stadium\")\n"
   ]
  },
  {
   "cell_type": "markdown",
   "id": "44f4d78f",
   "metadata": {},
   "source": [
    "#####  Observation: Most of the matches were played in Eden Gardens."
   ]
  },
  {
   "cell_type": "markdown",
   "id": "1bb1cc02",
   "metadata": {},
   "source": [
    "### 3) Teams with most wins."
   ]
  },
  {
   "cell_type": "code",
   "execution_count": 7,
   "id": "b9a3d5ff",
   "metadata": {},
   "outputs": [
    {
     "data": {
      "text/html": [
       "<table class=\"dataframe\">\n",
       "<caption>A tibble: 16 × 2</caption>\n",
       "<thead>\n",
       "\t<tr><th scope=col>winner</th><th scope=col>Total_wins</th></tr>\n",
       "\t<tr><th scope=col>&lt;chr&gt;</th><th scope=col>&lt;int&gt;</th></tr>\n",
       "</thead>\n",
       "<tbody>\n",
       "\t<tr><td>Mumbai Indians             </td><td>109</td></tr>\n",
       "\t<tr><td>Chennai Super Kings        </td><td>100</td></tr>\n",
       "\t<tr><td>Kolkata Knight Riders      </td><td> 92</td></tr>\n",
       "\t<tr><td>Royal Challengers Bangalore</td><td> 84</td></tr>\n",
       "\t<tr><td>Kings XI Punjab            </td><td> 82</td></tr>\n",
       "\t<tr><td>Rajasthan Royals           </td><td> 75</td></tr>\n",
       "\t<tr><td>Delhi Daredevils           </td><td> 67</td></tr>\n",
       "\t<tr><td>Sunrisers Hyderabad        </td><td> 58</td></tr>\n",
       "\t<tr><td>Deccan Chargers            </td><td> 29</td></tr>\n",
       "\t<tr><td>Gujarat Lions              </td><td> 13</td></tr>\n",
       "\t<tr><td>Pune Warriors              </td><td> 12</td></tr>\n",
       "\t<tr><td>Delhi Capitals             </td><td> 10</td></tr>\n",
       "\t<tr><td>Rising Pune Supergiant     </td><td> 10</td></tr>\n",
       "\t<tr><td>Kochi Tuskers Kerala       </td><td>  6</td></tr>\n",
       "\t<tr><td>Rising Pune Supergiants    </td><td>  5</td></tr>\n",
       "\t<tr><td>                           </td><td>  4</td></tr>\n",
       "</tbody>\n",
       "</table>\n"
      ],
      "text/latex": [
       "A tibble: 16 × 2\n",
       "\\begin{tabular}{ll}\n",
       " winner & Total\\_wins\\\\\n",
       " <chr> & <int>\\\\\n",
       "\\hline\n",
       "\t Mumbai Indians              & 109\\\\\n",
       "\t Chennai Super Kings         & 100\\\\\n",
       "\t Kolkata Knight Riders       &  92\\\\\n",
       "\t Royal Challengers Bangalore &  84\\\\\n",
       "\t Kings XI Punjab             &  82\\\\\n",
       "\t Rajasthan Royals            &  75\\\\\n",
       "\t Delhi Daredevils            &  67\\\\\n",
       "\t Sunrisers Hyderabad         &  58\\\\\n",
       "\t Deccan Chargers             &  29\\\\\n",
       "\t Gujarat Lions               &  13\\\\\n",
       "\t Pune Warriors               &  12\\\\\n",
       "\t Delhi Capitals              &  10\\\\\n",
       "\t Rising Pune Supergiant      &  10\\\\\n",
       "\t Kochi Tuskers Kerala        &   6\\\\\n",
       "\t Rising Pune Supergiants     &   5\\\\\n",
       "\t                             &   4\\\\\n",
       "\\end{tabular}\n"
      ],
      "text/markdown": [
       "\n",
       "A tibble: 16 × 2\n",
       "\n",
       "| winner &lt;chr&gt; | Total_wins &lt;int&gt; |\n",
       "|---|---|\n",
       "| Mumbai Indians              | 109 |\n",
       "| Chennai Super Kings         | 100 |\n",
       "| Kolkata Knight Riders       |  92 |\n",
       "| Royal Challengers Bangalore |  84 |\n",
       "| Kings XI Punjab             |  82 |\n",
       "| Rajasthan Royals            |  75 |\n",
       "| Delhi Daredevils            |  67 |\n",
       "| Sunrisers Hyderabad         |  58 |\n",
       "| Deccan Chargers             |  29 |\n",
       "| Gujarat Lions               |  13 |\n",
       "| Pune Warriors               |  12 |\n",
       "| Delhi Capitals              |  10 |\n",
       "| Rising Pune Supergiant      |  10 |\n",
       "| Kochi Tuskers Kerala        |   6 |\n",
       "| Rising Pune Supergiants     |   5 |\n",
       "| <!----> |   4 |\n",
       "\n"
      ],
      "text/plain": [
       "   winner                      Total_wins\n",
       "1  Mumbai Indians              109       \n",
       "2  Chennai Super Kings         100       \n",
       "3  Kolkata Knight Riders        92       \n",
       "4  Royal Challengers Bangalore  84       \n",
       "5  Kings XI Punjab              82       \n",
       "6  Rajasthan Royals             75       \n",
       "7  Delhi Daredevils             67       \n",
       "8  Sunrisers Hyderabad          58       \n",
       "9  Deccan Chargers              29       \n",
       "10 Gujarat Lions                13       \n",
       "11 Pune Warriors                12       \n",
       "12 Delhi Capitals               10       \n",
       "13 Rising Pune Supergiant       10       \n",
       "14 Kochi Tuskers Kerala          6       \n",
       "15 Rising Pune Supergiants       5       \n",
       "16                               4       "
      ]
     },
     "metadata": {},
     "output_type": "display_data"
    },
    {
     "data": {
      "image/png": "[encoded data removed]",
      "text/plain": [
       "plot without title"
      ]
     },
     "metadata": {
      "image/png": {
       "height": 420,
       "width": 420
      }
     },
     "output_type": "display_data"
    }
   ],
   "source": [
    "wins_by_team <- matches %>%\n",
    "                group_by(winner) %>%\n",
    "                summarize(Total_wins = n()) %>%\n",
    "                arrange(desc(Total_wins))\n",
    "wins_by_team\n",
    "\n",
    " ggplot(wins_by_team , aes(x=winner,y=Total_wins,fill=winner)) +\n",
    "         geom_col()+\n",
    "          ggtitle(\"Teams with total number of wins\") + \n",
    "          coord_flip() + \n",
    "        theme(legend.position = \"None\", axis.text.y = element_text(size=6)) +\n",
    "        geom_text(aes(label = Total_wins), hjust = 1.25)"
   ]
  },
  {
   "cell_type": "markdown",
   "id": "dccec48e",
   "metadata": {},
   "source": [
    "##### Observation : Team with the highest number of wins is Mumbai Indians(109)."
   ]
  },
  {
   "cell_type": "markdown",
   "id": "ebd0a079",
   "metadata": {},
   "source": [
    "### 4) Teams won by maximum Runs.\n"
   ]
  },
  {
   "cell_type": "code",
   "execution_count": 8,
   "id": "cdccc1f8",
   "metadata": {},
   "outputs": [
    {
     "data": {
      "text/html": [
       "<table class=\"dataframe\">\n",
       "<caption>A tibble: 16 × 2</caption>\n",
       "<thead>\n",
       "\t<tr><th scope=col>winner</th><th scope=col>Total_runs</th></tr>\n",
       "\t<tr><th scope=col>&lt;chr&gt;</th><th scope=col>&lt;int&gt;</th></tr>\n",
       "</thead>\n",
       "<tbody>\n",
       "\t<tr><td>Mumbai Indians             </td><td>1866</td></tr>\n",
       "\t<tr><td>Chennai Super Kings        </td><td>1778</td></tr>\n",
       "\t<tr><td>Royal Challengers Bangalore</td><td>1252</td></tr>\n",
       "\t<tr><td>Kolkata Knight Riders      </td><td>1086</td></tr>\n",
       "\t<tr><td>Kings XI Punjab            </td><td> 925</td></tr>\n",
       "\t<tr><td>Rajasthan Royals           </td><td> 895</td></tr>\n",
       "\t<tr><td>Sunrisers Hyderabad        </td><td> 713</td></tr>\n",
       "\t<tr><td>Delhi Daredevils           </td><td> 675</td></tr>\n",
       "\t<tr><td>Deccan Chargers            </td><td> 421</td></tr>\n",
       "\t<tr><td>Pune Warriors              </td><td> 139</td></tr>\n",
       "\t<tr><td>Rising Pune Supergiant     </td><td> 123</td></tr>\n",
       "\t<tr><td>Delhi Capitals             </td><td>  92</td></tr>\n",
       "\t<tr><td>Rising Pune Supergiants    </td><td>  53</td></tr>\n",
       "\t<tr><td>Kochi Tuskers Kerala       </td><td>  23</td></tr>\n",
       "\t<tr><td>Gujarat Lions              </td><td>   1</td></tr>\n",
       "\t<tr><td>                           </td><td>   0</td></tr>\n",
       "</tbody>\n",
       "</table>\n"
      ],
      "text/latex": [
       "A tibble: 16 × 2\n",
       "\\begin{tabular}{ll}\n",
       " winner & Total\\_runs\\\\\n",
       " <chr> & <int>\\\\\n",
       "\\hline\n",
       "\t Mumbai Indians              & 1866\\\\\n",
       "\t Chennai Super Kings         & 1778\\\\\n",
       "\t Royal Challengers Bangalore & 1252\\\\\n",
       "\t Kolkata Knight Riders       & 1086\\\\\n",
       "\t Kings XI Punjab             &  925\\\\\n",
       "\t Rajasthan Royals            &  895\\\\\n",
       "\t Sunrisers Hyderabad         &  713\\\\\n",
       "\t Delhi Daredevils            &  675\\\\\n",
       "\t Deccan Chargers             &  421\\\\\n",
       "\t Pune Warriors               &  139\\\\\n",
       "\t Rising Pune Supergiant      &  123\\\\\n",
       "\t Delhi Capitals              &   92\\\\\n",
       "\t Rising Pune Supergiants     &   53\\\\\n",
       "\t Kochi Tuskers Kerala        &   23\\\\\n",
       "\t Gujarat Lions               &    1\\\\\n",
       "\t                             &    0\\\\\n",
       "\\end{tabular}\n"
      ],
      "text/markdown": [
       "\n",
       "A tibble: 16 × 2\n",
       "\n",
       "| winner &lt;chr&gt; | Total_runs &lt;int&gt; |\n",
       "|---|---|\n",
       "| Mumbai Indians              | 1866 |\n",
       "| Chennai Super Kings         | 1778 |\n",
       "| Royal Challengers Bangalore | 1252 |\n",
       "| Kolkata Knight Riders       | 1086 |\n",
       "| Kings XI Punjab             |  925 |\n",
       "| Rajasthan Royals            |  895 |\n",
       "| Sunrisers Hyderabad         |  713 |\n",
       "| Delhi Daredevils            |  675 |\n",
       "| Deccan Chargers             |  421 |\n",
       "| Pune Warriors               |  139 |\n",
       "| Rising Pune Supergiant      |  123 |\n",
       "| Delhi Capitals              |   92 |\n",
       "| Rising Pune Supergiants     |   53 |\n",
       "| Kochi Tuskers Kerala        |   23 |\n",
       "| Gujarat Lions               |    1 |\n",
       "| <!----> |    0 |\n",
       "\n"
      ],
      "text/plain": [
       "   winner                      Total_runs\n",
       "1  Mumbai Indians              1866      \n",
       "2  Chennai Super Kings         1778      \n",
       "3  Royal Challengers Bangalore 1252      \n",
       "4  Kolkata Knight Riders       1086      \n",
       "5  Kings XI Punjab              925      \n",
       "6  Rajasthan Royals             895      \n",
       "7  Sunrisers Hyderabad          713      \n",
       "8  Delhi Daredevils             675      \n",
       "9  Deccan Chargers              421      \n",
       "10 Pune Warriors                139      \n",
       "11 Rising Pune Supergiant       123      \n",
       "12 Delhi Capitals                92      \n",
       "13 Rising Pune Supergiants       53      \n",
       "14 Kochi Tuskers Kerala          23      \n",
       "15 Gujarat Lions                  1      \n",
       "16                                0      "
      ]
     },
     "metadata": {},
     "output_type": "display_data"
    },
    {
     "data": {
      "image/png": "[encoded data removed]",
      "text/plain": [
       "plot without title"
      ]
     },
     "metadata": {
      "image/png": {
       "height": 420,
       "width": 420
      }
     },
     "output_type": "display_data"
    }
   ],
   "source": [
    "wins_by_max_runs <- matches %>% \n",
    "                select(winner, win_by_runs) %>%\n",
    "                group_by(winner) %>%\n",
    "                summarize(Total_runs = sum(win_by_runs)) %>%\n",
    "                arrange(desc(Total_runs))\n",
    "wins_by_max_runs\n",
    "\n",
    " ggplot(wins_by_max_runs , aes(x=reorder(winner,-Total_runs),y =Total_runs ,fill= winner)) +\n",
    "         geom_col()+\n",
    "          ggtitle(\"Teams won by maximum runs\") + \n",
    "          coord_flip() + \n",
    "        theme(legend.position = \"None\", axis.text.y = element_text(size=6)) +\n",
    "        geom_text(aes(label = Total_runs), hjust = 1.25)"
   ]
  },
  {
   "cell_type": "markdown",
   "id": "4bd01282",
   "metadata": {},
   "source": [
    "### 5) Teams won by maximum wickets."
   ]
  },
  {
   "cell_type": "code",
   "execution_count": 9,
   "id": "f0d60609",
   "metadata": {},
   "outputs": [
    {
     "data": {
      "text/html": [
       "<table class=\"dataframe\">\n",
       "<caption>A tibble: 16 × 2</caption>\n",
       "<thead>\n",
       "\t<tr><th scope=col>winner</th><th scope=col>Total_wickets</th></tr>\n",
       "\t<tr><th scope=col>&lt;chr&gt;</th><th scope=col>&lt;int&gt;</th></tr>\n",
       "</thead>\n",
       "<tbody>\n",
       "\t<tr><td>Kolkata Knight Riders      </td><td>351</td></tr>\n",
       "\t<tr><td>Royal Challengers Bangalore</td><td>314</td></tr>\n",
       "\t<tr><td>Mumbai Indians             </td><td>307</td></tr>\n",
       "\t<tr><td>Chennai Super Kings        </td><td>289</td></tr>\n",
       "\t<tr><td>Delhi Daredevils           </td><td>275</td></tr>\n",
       "\t<tr><td>Rajasthan Royals           </td><td>273</td></tr>\n",
       "\t<tr><td>Kings XI Punjab            </td><td>268</td></tr>\n",
       "\t<tr><td>Sunrisers Hyderabad        </td><td>173</td></tr>\n",
       "\t<tr><td>Deccan Chargers            </td><td> 72</td></tr>\n",
       "\t<tr><td>Gujarat Lions              </td><td> 65</td></tr>\n",
       "\t<tr><td>Pune Warriors              </td><td> 36</td></tr>\n",
       "\t<tr><td>Rising Pune Supergiant     </td><td> 31</td></tr>\n",
       "\t<tr><td>Kochi Tuskers Kerala       </td><td> 30</td></tr>\n",
       "\t<tr><td>Delhi Capitals             </td><td> 29</td></tr>\n",
       "\t<tr><td>Rising Pune Supergiants    </td><td> 20</td></tr>\n",
       "\t<tr><td>                           </td><td>  0</td></tr>\n",
       "</tbody>\n",
       "</table>\n"
      ],
      "text/latex": [
       "A tibble: 16 × 2\n",
       "\\begin{tabular}{ll}\n",
       " winner & Total\\_wickets\\\\\n",
       " <chr> & <int>\\\\\n",
       "\\hline\n",
       "\t Kolkata Knight Riders       & 351\\\\\n",
       "\t Royal Challengers Bangalore & 314\\\\\n",
       "\t Mumbai Indians              & 307\\\\\n",
       "\t Chennai Super Kings         & 289\\\\\n",
       "\t Delhi Daredevils            & 275\\\\\n",
       "\t Rajasthan Royals            & 273\\\\\n",
       "\t Kings XI Punjab             & 268\\\\\n",
       "\t Sunrisers Hyderabad         & 173\\\\\n",
       "\t Deccan Chargers             &  72\\\\\n",
       "\t Gujarat Lions               &  65\\\\\n",
       "\t Pune Warriors               &  36\\\\\n",
       "\t Rising Pune Supergiant      &  31\\\\\n",
       "\t Kochi Tuskers Kerala        &  30\\\\\n",
       "\t Delhi Capitals              &  29\\\\\n",
       "\t Rising Pune Supergiants     &  20\\\\\n",
       "\t                             &   0\\\\\n",
       "\\end{tabular}\n"
      ],
      "text/markdown": [
       "\n",
       "A tibble: 16 × 2\n",
       "\n",
       "| winner &lt;chr&gt; | Total_wickets &lt;int&gt; |\n",
       "|---|---|\n",
       "| Kolkata Knight Riders       | 351 |\n",
       "| Royal Challengers Bangalore | 314 |\n",
       "| Mumbai Indians              | 307 |\n",
       "| Chennai Super Kings         | 289 |\n",
       "| Delhi Daredevils            | 275 |\n",
       "| Rajasthan Royals            | 273 |\n",
       "| Kings XI Punjab             | 268 |\n",
       "| Sunrisers Hyderabad         | 173 |\n",
       "| Deccan Chargers             |  72 |\n",
       "| Gujarat Lions               |  65 |\n",
       "| Pune Warriors               |  36 |\n",
       "| Rising Pune Supergiant      |  31 |\n",
       "| Kochi Tuskers Kerala        |  30 |\n",
       "| Delhi Capitals              |  29 |\n",
       "| Rising Pune Supergiants     |  20 |\n",
       "| <!----> |   0 |\n",
       "\n"
      ],
      "text/plain": [
       "   winner                      Total_wickets\n",
       "1  Kolkata Knight Riders       351          \n",
       "2  Royal Challengers Bangalore 314          \n",
       "3  Mumbai Indians              307          \n",
       "4  Chennai Super Kings         289          \n",
       "5  Delhi Daredevils            275          \n",
       "6  Rajasthan Royals            273          \n",
       "7  Kings XI Punjab             268          \n",
       "8  Sunrisers Hyderabad         173          \n",
       "9  Deccan Chargers              72          \n",
       "10 Gujarat Lions                65          \n",
       "11 Pune Warriors                36          \n",
       "12 Rising Pune Supergiant       31          \n",
       "13 Kochi Tuskers Kerala         30          \n",
       "14 Delhi Capitals               29          \n",
       "15 Rising Pune Supergiants      20          \n",
       "16                               0          "
      ]
     },
     "metadata": {},
     "output_type": "display_data"
    },
    {
     "data": {
      "image/png": "[encoded data removed]",
      "text/plain": [
       "plot without title"
      ]
     },
     "metadata": {
      "image/png": {
       "height": 420,
       "width": 420
      }
     },
     "output_type": "display_data"
    }
   ],
   "source": [
    "wins_by_max_wickets <- matches %>% \n",
    "                select(winner, win_by_wickets) %>%\n",
    "                group_by(winner) %>%\n",
    "                summarize(Total_wickets = sum(win_by_wickets)) %>%\n",
    "                arrange(desc(Total_wickets))\n",
    "wins_by_max_wickets\n",
    "\n",
    " ggplot(wins_by_max_wickets , aes(x=winner,y=Total_wickets ,fill= winner)) +\n",
    "         geom_col()+\n",
    "          ggtitle(\"Teams won by maximum wickets\") + \n",
    "          coord_flip() + \n",
    "        theme(legend.position = \"None\", axis.text.y = element_text(size=6)) +\n",
    "        geom_text(aes(label = Total_wickets), hjust = 1.25)"
   ]
  },
  {
   "cell_type": "markdown",
   "id": "4d047408",
   "metadata": {},
   "source": [
    "### 7) Batsman with maximum runs in each season"
   ]
  },
  {
   "cell_type": "code",
   "execution_count": 10,
   "id": "bea33dfd",
   "metadata": {},
   "outputs": [
    {
     "name": "stderr",
     "output_type": "stream",
     "text": [
      "`summarise()` has grouped output by 'season'. You can override using the `.groups` argument.\n",
      "\n"
     ]
    },
    {
     "data": {
      "text/html": [
       "<table class=\"dataframe\">\n",
       "<caption>A grouped_df: 12 × 3</caption>\n",
       "<thead>\n",
       "\t<tr><th scope=col>season</th><th scope=col>batsman</th><th scope=col>total_runs</th></tr>\n",
       "\t<tr><th scope=col>&lt;int&gt;</th><th scope=col>&lt;chr&gt;</th><th scope=col>&lt;int&gt;</th></tr>\n",
       "</thead>\n",
       "<tbody>\n",
       "\t<tr><td>2008</td><td>SE Marsh     </td><td>452</td></tr>\n",
       "\t<tr><td>2009</td><td>ML Hayden    </td><td>409</td></tr>\n",
       "\t<tr><td>2010</td><td>JH Kallis    </td><td>517</td></tr>\n",
       "\t<tr><td>2011</td><td>SR Tendulkar </td><td>511</td></tr>\n",
       "\t<tr><td>2012</td><td>CH Gayle     </td><td>472</td></tr>\n",
       "\t<tr><td>2013</td><td>MEK Hussey   </td><td>580</td></tr>\n",
       "\t<tr><td>2014</td><td>RV Uthappa   </td><td>485</td></tr>\n",
       "\t<tr><td>2015</td><td>LMP Simmons  </td><td>455</td></tr>\n",
       "\t<tr><td>2016</td><td>V Kohli      </td><td>655</td></tr>\n",
       "\t<tr><td>2017</td><td>DA Warner    </td><td>462</td></tr>\n",
       "\t<tr><td>2018</td><td>KS Williamson</td><td>522</td></tr>\n",
       "\t<tr><td>2019</td><td>DA Warner    </td><td>496</td></tr>\n",
       "</tbody>\n",
       "</table>\n"
      ],
      "text/latex": [
       "A grouped\\_df: 12 × 3\n",
       "\\begin{tabular}{lll}\n",
       " season & batsman & total\\_runs\\\\\n",
       " <int> & <chr> & <int>\\\\\n",
       "\\hline\n",
       "\t 2008 & SE Marsh      & 452\\\\\n",
       "\t 2009 & ML Hayden     & 409\\\\\n",
       "\t 2010 & JH Kallis     & 517\\\\\n",
       "\t 2011 & SR Tendulkar  & 511\\\\\n",
       "\t 2012 & CH Gayle      & 472\\\\\n",
       "\t 2013 & MEK Hussey    & 580\\\\\n",
       "\t 2014 & RV Uthappa    & 485\\\\\n",
       "\t 2015 & LMP Simmons   & 455\\\\\n",
       "\t 2016 & V Kohli       & 655\\\\\n",
       "\t 2017 & DA Warner     & 462\\\\\n",
       "\t 2018 & KS Williamson & 522\\\\\n",
       "\t 2019 & DA Warner     & 496\\\\\n",
       "\\end{tabular}\n"
      ],
      "text/markdown": [
       "\n",
       "A grouped_df: 12 × 3\n",
       "\n",
       "| season &lt;int&gt; | batsman &lt;chr&gt; | total_runs &lt;int&gt; |\n",
       "|---|---|---|\n",
       "| 2008 | SE Marsh      | 452 |\n",
       "| 2009 | ML Hayden     | 409 |\n",
       "| 2010 | JH Kallis     | 517 |\n",
       "| 2011 | SR Tendulkar  | 511 |\n",
       "| 2012 | CH Gayle      | 472 |\n",
       "| 2013 | MEK Hussey    | 580 |\n",
       "| 2014 | RV Uthappa    | 485 |\n",
       "| 2015 | LMP Simmons   | 455 |\n",
       "| 2016 | V Kohli       | 655 |\n",
       "| 2017 | DA Warner     | 462 |\n",
       "| 2018 | KS Williamson | 522 |\n",
       "| 2019 | DA Warner     | 496 |\n",
       "\n"
      ],
      "text/plain": [
       "   season batsman       total_runs\n",
       "1  2008   SE Marsh      452       \n",
       "2  2009   ML Hayden     409       \n",
       "3  2010   JH Kallis     517       \n",
       "4  2011   SR Tendulkar  511       \n",
       "5  2012   CH Gayle      472       \n",
       "6  2013   MEK Hussey    580       \n",
       "7  2014   RV Uthappa    485       \n",
       "8  2015   LMP Simmons   455       \n",
       "9  2016   V Kohli       655       \n",
       "10 2017   DA Warner     462       \n",
       "11 2018   KS Williamson 522       \n",
       "12 2019   DA Warner     496       "
      ]
     },
     "metadata": {},
     "output_type": "display_data"
    }
   ],
   "source": [
    "batsman_max_runs_per_season = deliveries %>%\n",
    "                                left_join(matches , by = c(\"match_id\"=\"id\")) %>%\n",
    "                                group_by(season , batsman) %>%\n",
    "                                summarize(total_runs= n()) %>% \n",
    "                                arrange(season , desc(total_runs)) %>%\n",
    "                                filter(total_runs == max(total_runs))\n",
    "batsman_max_runs_per_season"
   ]
  },
  {
   "cell_type": "markdown",
   "id": "e38d6363",
   "metadata": {},
   "source": [
    "### 8) Batsmen with maximum runs throughout given IPL data. "
   ]
  },
  {
   "cell_type": "code",
   "execution_count": 11,
   "id": "faa00875",
   "metadata": {},
   "outputs": [
    {
     "data": {
      "text/html": [
       "<table class=\"dataframe\">\n",
       "<caption>A tibble: 516 × 2</caption>\n",
       "<thead>\n",
       "\t<tr><th scope=col>batsman</th><th scope=col>Total_runs</th></tr>\n",
       "\t<tr><th scope=col>&lt;chr&gt;</th><th scope=col>&lt;int&gt;</th></tr>\n",
       "</thead>\n",
       "<tbody>\n",
       "\t<tr><td>V Kohli       </td><td>5434</td></tr>\n",
       "\t<tr><td>SK Raina      </td><td>5415</td></tr>\n",
       "\t<tr><td>RG Sharma     </td><td>4914</td></tr>\n",
       "\t<tr><td>DA Warner     </td><td>4741</td></tr>\n",
       "\t<tr><td>S Dhawan      </td><td>4632</td></tr>\n",
       "\t<tr><td>CH Gayle      </td><td>4560</td></tr>\n",
       "\t<tr><td>MS Dhoni      </td><td>4477</td></tr>\n",
       "\t<tr><td>RV Uthappa    </td><td>4446</td></tr>\n",
       "\t<tr><td>AB de Villiers</td><td>4428</td></tr>\n",
       "\t<tr><td>G Gambhir     </td><td>4223</td></tr>\n",
       "\t<tr><td>AM Rahane     </td><td>3850</td></tr>\n",
       "\t<tr><td>KD Karthik    </td><td>3688</td></tr>\n",
       "\t<tr><td>SR Watson     </td><td>3614</td></tr>\n",
       "\t<tr><td>AT Rayudu     </td><td>3326</td></tr>\n",
       "\t<tr><td>YK Pathan     </td><td>3241</td></tr>\n",
       "\t<tr><td>BB McCullum   </td><td>2893</td></tr>\n",
       "\t<tr><td>PA Patel      </td><td>2874</td></tr>\n",
       "\t<tr><td>MK Pandey     </td><td>2872</td></tr>\n",
       "\t<tr><td>KA Pollard    </td><td>2784</td></tr>\n",
       "\t<tr><td>Yuvraj Singh  </td><td>2765</td></tr>\n",
       "\t<tr><td>V Sehwag      </td><td>2728</td></tr>\n",
       "\t<tr><td>M Vijay       </td><td>2590</td></tr>\n",
       "\t<tr><td>SE Marsh      </td><td>2489</td></tr>\n",
       "\t<tr><td>JH Kallis     </td><td>2427</td></tr>\n",
       "\t<tr><td>DR Smith      </td><td>2385</td></tr>\n",
       "\t<tr><td>SR Tendulkar  </td><td>2334</td></tr>\n",
       "\t<tr><td>SV Samson     </td><td>2235</td></tr>\n",
       "\t<tr><td>R Dravid      </td><td>2174</td></tr>\n",
       "\t<tr><td>AC Gilchrist  </td><td>2069</td></tr>\n",
       "\t<tr><td>SPD Smith     </td><td>2047</td></tr>\n",
       "\t<tr><td>...</td><td>...</td></tr>\n",
       "\t<tr><td>BE Hendricks     </td><td>1</td></tr>\n",
       "\t<tr><td>DJ Muthuswami    </td><td>1</td></tr>\n",
       "\t<tr><td>DP Vijaykumar    </td><td>1</td></tr>\n",
       "\t<tr><td>H Gurney         </td><td>1</td></tr>\n",
       "\t<tr><td>L Plunkett       </td><td>1</td></tr>\n",
       "\t<tr><td>LH Ferguson      </td><td>1</td></tr>\n",
       "\t<tr><td>M de Lange       </td><td>1</td></tr>\n",
       "\t<tr><td>Mustafizur Rahman</td><td>1</td></tr>\n",
       "\t<tr><td>NJ Rimmington    </td><td>1</td></tr>\n",
       "\t<tr><td>P Krishna        </td><td>1</td></tr>\n",
       "\t<tr><td>P Parameswaran   </td><td>1</td></tr>\n",
       "\t<tr><td>PM Sarvesh Kumar </td><td>1</td></tr>\n",
       "\t<tr><td>SE Bond          </td><td>1</td></tr>\n",
       "\t<tr><td>Shoaib Ahmed     </td><td>1</td></tr>\n",
       "\t<tr><td>Abdur Razzak     </td><td>0</td></tr>\n",
       "\t<tr><td>C Nanda          </td><td>0</td></tr>\n",
       "\t<tr><td>IC Pandey        </td><td>0</td></tr>\n",
       "\t<tr><td>J Denly          </td><td>0</td></tr>\n",
       "\t<tr><td>K Ahmed          </td><td>0</td></tr>\n",
       "\t<tr><td>L Ablish         </td><td>0</td></tr>\n",
       "\t<tr><td>ND Doshi         </td><td>0</td></tr>\n",
       "\t<tr><td>P Raj            </td><td>0</td></tr>\n",
       "\t<tr><td>RR Bhatkal       </td><td>0</td></tr>\n",
       "\t<tr><td>S Kaushik        </td><td>0</td></tr>\n",
       "\t<tr><td>S Ladda          </td><td>0</td></tr>\n",
       "\t<tr><td>S Lamichhane     </td><td>0</td></tr>\n",
       "\t<tr><td>Sunny Gupta      </td><td>0</td></tr>\n",
       "\t<tr><td>U Kaul           </td><td>0</td></tr>\n",
       "\t<tr><td>V Pratap Singh   </td><td>0</td></tr>\n",
       "\t<tr><td>YA Abdulla       </td><td>0</td></tr>\n",
       "</tbody>\n",
       "</table>\n"
      ],
      "text/latex": [
       "A tibble: 516 × 2\n",
       "\\begin{tabular}{ll}\n",
       " batsman & Total\\_runs\\\\\n",
       " <chr> & <int>\\\\\n",
       "\\hline\n",
       "\t V Kohli        & 5434\\\\\n",
       "\t SK Raina       & 5415\\\\\n",
       "\t RG Sharma      & 4914\\\\\n",
       "\t DA Warner      & 4741\\\\\n",
       "\t S Dhawan       & 4632\\\\\n",
       "\t CH Gayle       & 4560\\\\\n",
       "\t MS Dhoni       & 4477\\\\\n",
       "\t RV Uthappa     & 4446\\\\\n",
       "\t AB de Villiers & 4428\\\\\n",
       "\t G Gambhir      & 4223\\\\\n",
       "\t AM Rahane      & 3850\\\\\n",
       "\t KD Karthik     & 3688\\\\\n",
       "\t SR Watson      & 3614\\\\\n",
       "\t AT Rayudu      & 3326\\\\\n",
       "\t YK Pathan      & 3241\\\\\n",
       "\t BB McCullum    & 2893\\\\\n",
       "\t PA Patel       & 2874\\\\\n",
       "\t MK Pandey      & 2872\\\\\n",
       "\t KA Pollard     & 2784\\\\\n",
       "\t Yuvraj Singh   & 2765\\\\\n",
       "\t V Sehwag       & 2728\\\\\n",
       "\t M Vijay        & 2590\\\\\n",
       "\t SE Marsh       & 2489\\\\\n",
       "\t JH Kallis      & 2427\\\\\n",
       "\t DR Smith       & 2385\\\\\n",
       "\t SR Tendulkar   & 2334\\\\\n",
       "\t SV Samson      & 2235\\\\\n",
       "\t R Dravid       & 2174\\\\\n",
       "\t AC Gilchrist   & 2069\\\\\n",
       "\t SPD Smith      & 2047\\\\\n",
       "\t ... & ...\\\\\n",
       "\t BE Hendricks      & 1\\\\\n",
       "\t DJ Muthuswami     & 1\\\\\n",
       "\t DP Vijaykumar     & 1\\\\\n",
       "\t H Gurney          & 1\\\\\n",
       "\t L Plunkett        & 1\\\\\n",
       "\t LH Ferguson       & 1\\\\\n",
       "\t M de Lange        & 1\\\\\n",
       "\t Mustafizur Rahman & 1\\\\\n",
       "\t NJ Rimmington     & 1\\\\\n",
       "\t P Krishna         & 1\\\\\n",
       "\t P Parameswaran    & 1\\\\\n",
       "\t PM Sarvesh Kumar  & 1\\\\\n",
       "\t SE Bond           & 1\\\\\n",
       "\t Shoaib Ahmed      & 1\\\\\n",
       "\t Abdur Razzak      & 0\\\\\n",
       "\t C Nanda           & 0\\\\\n",
       "\t IC Pandey         & 0\\\\\n",
       "\t J Denly           & 0\\\\\n",
       "\t K Ahmed           & 0\\\\\n",
       "\t L Ablish          & 0\\\\\n",
       "\t ND Doshi          & 0\\\\\n",
       "\t P Raj             & 0\\\\\n",
       "\t RR Bhatkal        & 0\\\\\n",
       "\t S Kaushik         & 0\\\\\n",
       "\t S Ladda           & 0\\\\\n",
       "\t S Lamichhane      & 0\\\\\n",
       "\t Sunny Gupta       & 0\\\\\n",
       "\t U Kaul            & 0\\\\\n",
       "\t V Pratap Singh    & 0\\\\\n",
       "\t YA Abdulla        & 0\\\\\n",
       "\\end{tabular}\n"
      ],
      "text/markdown": [
       "\n",
       "A tibble: 516 × 2\n",
       "\n",
       "| batsman &lt;chr&gt; | Total_runs &lt;int&gt; |\n",
       "|---|---|\n",
       "| V Kohli        | 5434 |\n",
       "| SK Raina       | 5415 |\n",
       "| RG Sharma      | 4914 |\n",
       "| DA Warner      | 4741 |\n",
       "| S Dhawan       | 4632 |\n",
       "| CH Gayle       | 4560 |\n",
       "| MS Dhoni       | 4477 |\n",
       "| RV Uthappa     | 4446 |\n",
       "| AB de Villiers | 4428 |\n",
       "| G Gambhir      | 4223 |\n",
       "| AM Rahane      | 3850 |\n",
       "| KD Karthik     | 3688 |\n",
       "| SR Watson      | 3614 |\n",
       "| AT Rayudu      | 3326 |\n",
       "| YK Pathan      | 3241 |\n",
       "| BB McCullum    | 2893 |\n",
       "| PA Patel       | 2874 |\n",
       "| MK Pandey      | 2872 |\n",
       "| KA Pollard     | 2784 |\n",
       "| Yuvraj Singh   | 2765 |\n",
       "| V Sehwag       | 2728 |\n",
       "| M Vijay        | 2590 |\n",
       "| SE Marsh       | 2489 |\n",
       "| JH Kallis      | 2427 |\n",
       "| DR Smith       | 2385 |\n",
       "| SR Tendulkar   | 2334 |\n",
       "| SV Samson      | 2235 |\n",
       "| R Dravid       | 2174 |\n",
       "| AC Gilchrist   | 2069 |\n",
       "| SPD Smith      | 2047 |\n",
       "| ... | ... |\n",
       "| BE Hendricks      | 1 |\n",
       "| DJ Muthuswami     | 1 |\n",
       "| DP Vijaykumar     | 1 |\n",
       "| H Gurney          | 1 |\n",
       "| L Plunkett        | 1 |\n",
       "| LH Ferguson       | 1 |\n",
       "| M de Lange        | 1 |\n",
       "| Mustafizur Rahman | 1 |\n",
       "| NJ Rimmington     | 1 |\n",
       "| P Krishna         | 1 |\n",
       "| P Parameswaran    | 1 |\n",
       "| PM Sarvesh Kumar  | 1 |\n",
       "| SE Bond           | 1 |\n",
       "| Shoaib Ahmed      | 1 |\n",
       "| Abdur Razzak      | 0 |\n",
       "| C Nanda           | 0 |\n",
       "| IC Pandey         | 0 |\n",
       "| J Denly           | 0 |\n",
       "| K Ahmed           | 0 |\n",
       "| L Ablish          | 0 |\n",
       "| ND Doshi          | 0 |\n",
       "| P Raj             | 0 |\n",
       "| RR Bhatkal        | 0 |\n",
       "| S Kaushik         | 0 |\n",
       "| S Ladda           | 0 |\n",
       "| S Lamichhane      | 0 |\n",
       "| Sunny Gupta       | 0 |\n",
       "| U Kaul            | 0 |\n",
       "| V Pratap Singh    | 0 |\n",
       "| YA Abdulla        | 0 |\n",
       "\n"
      ],
      "text/plain": [
       "    batsman           Total_runs\n",
       "1   V Kohli           5434      \n",
       "2   SK Raina          5415      \n",
       "3   RG Sharma         4914      \n",
       "4   DA Warner         4741      \n",
       "5   S Dhawan          4632      \n",
       "6   CH Gayle          4560      \n",
       "7   MS Dhoni          4477      \n",
       "8   RV Uthappa        4446      \n",
       "9   AB de Villiers    4428      \n",
       "10  G Gambhir         4223      \n",
       "11  AM Rahane         3850      \n",
       "12  KD Karthik        3688      \n",
       "13  SR Watson         3614      \n",
       "14  AT Rayudu         3326      \n",
       "15  YK Pathan         3241      \n",
       "16  BB McCullum       2893      \n",
       "17  PA Patel          2874      \n",
       "18  MK Pandey         2872      \n",
       "19  KA Pollard        2784      \n",
       "20  Yuvraj Singh      2765      \n",
       "21  V Sehwag          2728      \n",
       "22  M Vijay           2590      \n",
       "23  SE Marsh          2489      \n",
       "24  JH Kallis         2427      \n",
       "25  DR Smith          2385      \n",
       "26  SR Tendulkar      2334      \n",
       "27  SV Samson         2235      \n",
       "28  R Dravid          2174      \n",
       "29  AC Gilchrist      2069      \n",
       "30  SPD Smith         2047      \n",
       "... ...               ...       \n",
       "487 BE Hendricks      1         \n",
       "488 DJ Muthuswami     1         \n",
       "489 DP Vijaykumar     1         \n",
       "490 H Gurney          1         \n",
       "491 L Plunkett        1         \n",
       "492 LH Ferguson       1         \n",
       "493 M de Lange        1         \n",
       "494 Mustafizur Rahman 1         \n",
       "495 NJ Rimmington     1         \n",
       "496 P Krishna         1         \n",
       "497 P Parameswaran    1         \n",
       "498 PM Sarvesh Kumar  1         \n",
       "499 SE Bond           1         \n",
       "500 Shoaib Ahmed      1         \n",
       "501 Abdur Razzak      0         \n",
       "502 C Nanda           0         \n",
       "503 IC Pandey         0         \n",
       "504 J Denly           0         \n",
       "505 K Ahmed           0         \n",
       "506 L Ablish          0         \n",
       "507 ND Doshi          0         \n",
       "508 P Raj             0         \n",
       "509 RR Bhatkal        0         \n",
       "510 S Kaushik         0         \n",
       "511 S Ladda           0         \n",
       "512 S Lamichhane      0         \n",
       "513 Sunny Gupta       0         \n",
       "514 U Kaul            0         \n",
       "515 V Pratap Singh    0         \n",
       "516 YA Abdulla        0         "
      ]
     },
     "metadata": {},
     "output_type": "display_data"
    }
   ],
   "source": [
    "batsman_with_most_runs <- deliveries %>% \n",
    "                select(batsman, batsman_runs) %>%\n",
    "                group_by(batsman) %>%\n",
    "                summarize(Total_runs = sum(batsman_runs)) %>%\n",
    "                arrange(desc(Total_runs))\n",
    "batsman_with_most_runs\n",
    "\n"
   ]
  },
  {
   "cell_type": "markdown",
   "id": "fbf0e250",
   "metadata": {},
   "source": [
    "### 9) Bowlers with highest number of wickets in each season. "
   ]
  },
  {
   "cell_type": "code",
   "execution_count": 12,
   "id": "68d8fcd2",
   "metadata": {},
   "outputs": [
    {
     "name": "stderr",
     "output_type": "stream",
     "text": [
      "`summarise()` has grouped output by 'season'. You can override using the `.groups` argument.\n",
      "\n"
     ]
    },
    {
     "data": {
      "text/html": [
       "<table class=\"dataframe\">\n",
       "<caption>A grouped_df: 12 × 3</caption>\n",
       "<thead>\n",
       "\t<tr><th scope=col>season</th><th scope=col>bowler</th><th scope=col>wickets</th></tr>\n",
       "\t<tr><th scope=col>&lt;int&gt;</th><th scope=col>&lt;chr&gt;</th><th scope=col>&lt;int&gt;</th></tr>\n",
       "</thead>\n",
       "<tbody>\n",
       "\t<tr><td>2008</td><td>MS Gony        </td><td>370</td></tr>\n",
       "\t<tr><td>2009</td><td>RP Singh       </td><td>379</td></tr>\n",
       "\t<tr><td>2010</td><td>A Kumble       </td><td>387</td></tr>\n",
       "\t<tr><td>2011</td><td>SL Malinga     </td><td>395</td></tr>\n",
       "\t<tr><td>2012</td><td>R Ashwin       </td><td>397</td></tr>\n",
       "\t<tr><td>2013</td><td>Harbhajan Singh</td><td>429</td></tr>\n",
       "\t<tr><td>2014</td><td>AR Patel       </td><td>401</td></tr>\n",
       "\t<tr><td>2015</td><td>A Nehra        </td><td>382</td></tr>\n",
       "\t<tr><td>2016</td><td>B Kumar        </td><td>413</td></tr>\n",
       "\t<tr><td>2017</td><td>JJ Bumrah      </td><td>370</td></tr>\n",
       "\t<tr><td>2018</td><td>Rashid Khan    </td><td>409</td></tr>\n",
       "\t<tr><td>2019</td><td>DL Chahar      </td><td>403</td></tr>\n",
       "</tbody>\n",
       "</table>\n"
      ],
      "text/latex": [
       "A grouped\\_df: 12 × 3\n",
       "\\begin{tabular}{lll}\n",
       " season & bowler & wickets\\\\\n",
       " <int> & <chr> & <int>\\\\\n",
       "\\hline\n",
       "\t 2008 & MS Gony         & 370\\\\\n",
       "\t 2009 & RP Singh        & 379\\\\\n",
       "\t 2010 & A Kumble        & 387\\\\\n",
       "\t 2011 & SL Malinga      & 395\\\\\n",
       "\t 2012 & R Ashwin        & 397\\\\\n",
       "\t 2013 & Harbhajan Singh & 429\\\\\n",
       "\t 2014 & AR Patel        & 401\\\\\n",
       "\t 2015 & A Nehra         & 382\\\\\n",
       "\t 2016 & B Kumar         & 413\\\\\n",
       "\t 2017 & JJ Bumrah       & 370\\\\\n",
       "\t 2018 & Rashid Khan     & 409\\\\\n",
       "\t 2019 & DL Chahar       & 403\\\\\n",
       "\\end{tabular}\n"
      ],
      "text/markdown": [
       "\n",
       "A grouped_df: 12 × 3\n",
       "\n",
       "| season &lt;int&gt; | bowler &lt;chr&gt; | wickets &lt;int&gt; |\n",
       "|---|---|---|\n",
       "| 2008 | MS Gony         | 370 |\n",
       "| 2009 | RP Singh        | 379 |\n",
       "| 2010 | A Kumble        | 387 |\n",
       "| 2011 | SL Malinga      | 395 |\n",
       "| 2012 | R Ashwin        | 397 |\n",
       "| 2013 | Harbhajan Singh | 429 |\n",
       "| 2014 | AR Patel        | 401 |\n",
       "| 2015 | A Nehra         | 382 |\n",
       "| 2016 | B Kumar         | 413 |\n",
       "| 2017 | JJ Bumrah       | 370 |\n",
       "| 2018 | Rashid Khan     | 409 |\n",
       "| 2019 | DL Chahar       | 403 |\n",
       "\n"
      ],
      "text/plain": [
       "   season bowler          wickets\n",
       "1  2008   MS Gony         370    \n",
       "2  2009   RP Singh        379    \n",
       "3  2010   A Kumble        387    \n",
       "4  2011   SL Malinga      395    \n",
       "5  2012   R Ashwin        397    \n",
       "6  2013   Harbhajan Singh 429    \n",
       "7  2014   AR Patel        401    \n",
       "8  2015   A Nehra         382    \n",
       "9  2016   B Kumar         413    \n",
       "10 2017   JJ Bumrah       370    \n",
       "11 2018   Rashid Khan     409    \n",
       "12 2019   DL Chahar       403    "
      ]
     },
     "metadata": {},
     "output_type": "display_data"
    }
   ],
   "source": [
    "bowler_max_wickets_per_season = deliveries %>%\n",
    "                                left_join(matches , by = c(\"match_id\"=\"id\")) %>%\n",
    "                                filter(dismissal_kind != \"run out\") %>%\n",
    "                                group_by(season , bowler) %>%\n",
    "                                summarize(wickets = n()) %>% \n",
    "                                arrange(season , desc(wickets)) %>%\n",
    "                                filter(wickets == max(wickets))\n",
    "bowler_max_wickets_per_season"
   ]
  },
  {
   "cell_type": "markdown",
   "id": "bc9739be",
   "metadata": {},
   "source": [
    "### 10)  Bowlers with maximum wickets throughout given IPL data."
   ]
  },
  {
   "cell_type": "code",
   "execution_count": 13,
   "id": "f52110ab",
   "metadata": {},
   "outputs": [
    {
     "data": {
      "text/html": [
       "<table class=\"dataframe\">\n",
       "<caption>A tibble: 405 × 2</caption>\n",
       "<thead>\n",
       "\t<tr><th scope=col>bowler</th><th scope=col>wickets</th></tr>\n",
       "\t<tr><th scope=col>&lt;chr&gt;</th><th scope=col>&lt;int&gt;</th></tr>\n",
       "</thead>\n",
       "<tbody>\n",
       "\t<tr><td>Harbhajan Singh</td><td>3440</td></tr>\n",
       "\t<tr><td>A Mishra       </td><td>3163</td></tr>\n",
       "\t<tr><td>PP Chawla      </td><td>3150</td></tr>\n",
       "\t<tr><td>R Ashwin       </td><td>3003</td></tr>\n",
       "\t<tr><td>SL Malinga     </td><td>2956</td></tr>\n",
       "\t<tr><td>B Kumar        </td><td>2699</td></tr>\n",
       "\t<tr><td>DJ Bravo       </td><td>2690</td></tr>\n",
       "\t<tr><td>P Kumar        </td><td>2625</td></tr>\n",
       "\t<tr><td>UT Yadav       </td><td>2588</td></tr>\n",
       "\t<tr><td>SP Narine      </td><td>2585</td></tr>\n",
       "\t<tr><td>RA Jadeja      </td><td>2533</td></tr>\n",
       "\t<tr><td>Z Khan         </td><td>2260</td></tr>\n",
       "\t<tr><td>DW Steyn       </td><td>2199</td></tr>\n",
       "\t<tr><td>R Vinay Kumar  </td><td>2164</td></tr>\n",
       "\t<tr><td>SR Watson      </td><td>2122</td></tr>\n",
       "\t<tr><td>IK Pathan      </td><td>2094</td></tr>\n",
       "\t<tr><td>I Sharma       </td><td>1997</td></tr>\n",
       "\t<tr><td>A Nehra        </td><td>1959</td></tr>\n",
       "\t<tr><td>PP Ojha        </td><td>1935</td></tr>\n",
       "\t<tr><td>RP Singh       </td><td>1864</td></tr>\n",
       "\t<tr><td>YS Chahal      </td><td>1839</td></tr>\n",
       "\t<tr><td>DS Kulkarni    </td><td>1825</td></tr>\n",
       "\t<tr><td>JA Morkel      </td><td>1796</td></tr>\n",
       "\t<tr><td>JH Kallis      </td><td>1790</td></tr>\n",
       "\t<tr><td>JJ Bumrah      </td><td>1789</td></tr>\n",
       "\t<tr><td>MM Sharma      </td><td>1762</td></tr>\n",
       "\t<tr><td>AR Patel       </td><td>1740</td></tr>\n",
       "\t<tr><td>M Morkel       </td><td>1688</td></tr>\n",
       "\t<tr><td>R Bhatia       </td><td>1650</td></tr>\n",
       "\t<tr><td>M Muralitharan </td><td>1578</td></tr>\n",
       "\t<tr><td>...</td><td>...</td></tr>\n",
       "\t<tr><td>S Vidyut        </td><td>13</td></tr>\n",
       "\t<tr><td>AA Kazi         </td><td>12</td></tr>\n",
       "\t<tr><td>C Munro         </td><td>12</td></tr>\n",
       "\t<tr><td>Mandeep Singh   </td><td>12</td></tr>\n",
       "\t<tr><td>RR Bhatkal      </td><td>12</td></tr>\n",
       "\t<tr><td>RR Bose         </td><td>12</td></tr>\n",
       "\t<tr><td>FY Fazal        </td><td>11</td></tr>\n",
       "\t<tr><td>S Dube          </td><td>11</td></tr>\n",
       "\t<tr><td>Sachin Baby     </td><td> 9</td></tr>\n",
       "\t<tr><td>BJ Rohrer       </td><td> 7</td></tr>\n",
       "\t<tr><td>LA Carseldine   </td><td> 7</td></tr>\n",
       "\t<tr><td>SS Mundhe       </td><td> 7</td></tr>\n",
       "\t<tr><td>AM Rahane       </td><td> 6</td></tr>\n",
       "\t<tr><td>B Chipli        </td><td> 6</td></tr>\n",
       "\t<tr><td>C Ganapathy     </td><td> 6</td></tr>\n",
       "\t<tr><td>F du Plessis    </td><td> 6</td></tr>\n",
       "\t<tr><td>H Vihari        </td><td> 6</td></tr>\n",
       "\t<tr><td>I Malhotra      </td><td> 6</td></tr>\n",
       "\t<tr><td>KS Williamson   </td><td> 6</td></tr>\n",
       "\t<tr><td>L Livingstone   </td><td> 6</td></tr>\n",
       "\t<tr><td>LPC Silva       </td><td> 6</td></tr>\n",
       "\t<tr><td>P Prasanth      </td><td> 6</td></tr>\n",
       "\t<tr><td>RA Shaikh       </td><td> 6</td></tr>\n",
       "\t<tr><td>RA Tripathi     </td><td> 6</td></tr>\n",
       "\t<tr><td>RS Gavaskar     </td><td> 6</td></tr>\n",
       "\t<tr><td>SA Yadav        </td><td> 6</td></tr>\n",
       "\t<tr><td>Y Gnaneswara Rao</td><td> 6</td></tr>\n",
       "\t<tr><td>SN Khan         </td><td> 2</td></tr>\n",
       "\t<tr><td>SPD Smith       </td><td> 2</td></tr>\n",
       "\t<tr><td>AC Gilchrist    </td><td> 1</td></tr>\n",
       "</tbody>\n",
       "</table>\n"
      ],
      "text/latex": [
       "A tibble: 405 × 2\n",
       "\\begin{tabular}{ll}\n",
       " bowler & wickets\\\\\n",
       " <chr> & <int>\\\\\n",
       "\\hline\n",
       "\t Harbhajan Singh & 3440\\\\\n",
       "\t A Mishra        & 3163\\\\\n",
       "\t PP Chawla       & 3150\\\\\n",
       "\t R Ashwin        & 3003\\\\\n",
       "\t SL Malinga      & 2956\\\\\n",
       "\t B Kumar         & 2699\\\\\n",
       "\t DJ Bravo        & 2690\\\\\n",
       "\t P Kumar         & 2625\\\\\n",
       "\t UT Yadav        & 2588\\\\\n",
       "\t SP Narine       & 2585\\\\\n",
       "\t RA Jadeja       & 2533\\\\\n",
       "\t Z Khan          & 2260\\\\\n",
       "\t DW Steyn        & 2199\\\\\n",
       "\t R Vinay Kumar   & 2164\\\\\n",
       "\t SR Watson       & 2122\\\\\n",
       "\t IK Pathan       & 2094\\\\\n",
       "\t I Sharma        & 1997\\\\\n",
       "\t A Nehra         & 1959\\\\\n",
       "\t PP Ojha         & 1935\\\\\n",
       "\t RP Singh        & 1864\\\\\n",
       "\t YS Chahal       & 1839\\\\\n",
       "\t DS Kulkarni     & 1825\\\\\n",
       "\t JA Morkel       & 1796\\\\\n",
       "\t JH Kallis       & 1790\\\\\n",
       "\t JJ Bumrah       & 1789\\\\\n",
       "\t MM Sharma       & 1762\\\\\n",
       "\t AR Patel        & 1740\\\\\n",
       "\t M Morkel        & 1688\\\\\n",
       "\t R Bhatia        & 1650\\\\\n",
       "\t M Muralitharan  & 1578\\\\\n",
       "\t ... & ...\\\\\n",
       "\t S Vidyut         & 13\\\\\n",
       "\t AA Kazi          & 12\\\\\n",
       "\t C Munro          & 12\\\\\n",
       "\t Mandeep Singh    & 12\\\\\n",
       "\t RR Bhatkal       & 12\\\\\n",
       "\t RR Bose          & 12\\\\\n",
       "\t FY Fazal         & 11\\\\\n",
       "\t S Dube           & 11\\\\\n",
       "\t Sachin Baby      &  9\\\\\n",
       "\t BJ Rohrer        &  7\\\\\n",
       "\t LA Carseldine    &  7\\\\\n",
       "\t SS Mundhe        &  7\\\\\n",
       "\t AM Rahane        &  6\\\\\n",
       "\t B Chipli         &  6\\\\\n",
       "\t C Ganapathy      &  6\\\\\n",
       "\t F du Plessis     &  6\\\\\n",
       "\t H Vihari         &  6\\\\\n",
       "\t I Malhotra       &  6\\\\\n",
       "\t KS Williamson    &  6\\\\\n",
       "\t L Livingstone    &  6\\\\\n",
       "\t LPC Silva        &  6\\\\\n",
       "\t P Prasanth       &  6\\\\\n",
       "\t RA Shaikh        &  6\\\\\n",
       "\t RA Tripathi      &  6\\\\\n",
       "\t RS Gavaskar      &  6\\\\\n",
       "\t SA Yadav         &  6\\\\\n",
       "\t Y Gnaneswara Rao &  6\\\\\n",
       "\t SN Khan          &  2\\\\\n",
       "\t SPD Smith        &  2\\\\\n",
       "\t AC Gilchrist     &  1\\\\\n",
       "\\end{tabular}\n"
      ],
      "text/markdown": [
       "\n",
       "A tibble: 405 × 2\n",
       "\n",
       "| bowler &lt;chr&gt; | wickets &lt;int&gt; |\n",
       "|---|---|\n",
       "| Harbhajan Singh | 3440 |\n",
       "| A Mishra        | 3163 |\n",
       "| PP Chawla       | 3150 |\n",
       "| R Ashwin        | 3003 |\n",
       "| SL Malinga      | 2956 |\n",
       "| B Kumar         | 2699 |\n",
       "| DJ Bravo        | 2690 |\n",
       "| P Kumar         | 2625 |\n",
       "| UT Yadav        | 2588 |\n",
       "| SP Narine       | 2585 |\n",
       "| RA Jadeja       | 2533 |\n",
       "| Z Khan          | 2260 |\n",
       "| DW Steyn        | 2199 |\n",
       "| R Vinay Kumar   | 2164 |\n",
       "| SR Watson       | 2122 |\n",
       "| IK Pathan       | 2094 |\n",
       "| I Sharma        | 1997 |\n",
       "| A Nehra         | 1959 |\n",
       "| PP Ojha         | 1935 |\n",
       "| RP Singh        | 1864 |\n",
       "| YS Chahal       | 1839 |\n",
       "| DS Kulkarni     | 1825 |\n",
       "| JA Morkel       | 1796 |\n",
       "| JH Kallis       | 1790 |\n",
       "| JJ Bumrah       | 1789 |\n",
       "| MM Sharma       | 1762 |\n",
       "| AR Patel        | 1740 |\n",
       "| M Morkel        | 1688 |\n",
       "| R Bhatia        | 1650 |\n",
       "| M Muralitharan  | 1578 |\n",
       "| ... | ... |\n",
       "| S Vidyut         | 13 |\n",
       "| AA Kazi          | 12 |\n",
       "| C Munro          | 12 |\n",
       "| Mandeep Singh    | 12 |\n",
       "| RR Bhatkal       | 12 |\n",
       "| RR Bose          | 12 |\n",
       "| FY Fazal         | 11 |\n",
       "| S Dube           | 11 |\n",
       "| Sachin Baby      |  9 |\n",
       "| BJ Rohrer        |  7 |\n",
       "| LA Carseldine    |  7 |\n",
       "| SS Mundhe        |  7 |\n",
       "| AM Rahane        |  6 |\n",
       "| B Chipli         |  6 |\n",
       "| C Ganapathy      |  6 |\n",
       "| F du Plessis     |  6 |\n",
       "| H Vihari         |  6 |\n",
       "| I Malhotra       |  6 |\n",
       "| KS Williamson    |  6 |\n",
       "| L Livingstone    |  6 |\n",
       "| LPC Silva        |  6 |\n",
       "| P Prasanth       |  6 |\n",
       "| RA Shaikh        |  6 |\n",
       "| RA Tripathi      |  6 |\n",
       "| RS Gavaskar      |  6 |\n",
       "| SA Yadav         |  6 |\n",
       "| Y Gnaneswara Rao |  6 |\n",
       "| SN Khan          |  2 |\n",
       "| SPD Smith        |  2 |\n",
       "| AC Gilchrist     |  1 |\n",
       "\n"
      ],
      "text/plain": [
       "    bowler           wickets\n",
       "1   Harbhajan Singh  3440   \n",
       "2   A Mishra         3163   \n",
       "3   PP Chawla        3150   \n",
       "4   R Ashwin         3003   \n",
       "5   SL Malinga       2956   \n",
       "6   B Kumar          2699   \n",
       "7   DJ Bravo         2690   \n",
       "8   P Kumar          2625   \n",
       "9   UT Yadav         2588   \n",
       "10  SP Narine        2585   \n",
       "11  RA Jadeja        2533   \n",
       "12  Z Khan           2260   \n",
       "13  DW Steyn         2199   \n",
       "14  R Vinay Kumar    2164   \n",
       "15  SR Watson        2122   \n",
       "16  IK Pathan        2094   \n",
       "17  I Sharma         1997   \n",
       "18  A Nehra          1959   \n",
       "19  PP Ojha          1935   \n",
       "20  RP Singh         1864   \n",
       "21  YS Chahal        1839   \n",
       "22  DS Kulkarni      1825   \n",
       "23  JA Morkel        1796   \n",
       "24  JH Kallis        1790   \n",
       "25  JJ Bumrah        1789   \n",
       "26  MM Sharma        1762   \n",
       "27  AR Patel         1740   \n",
       "28  M Morkel         1688   \n",
       "29  R Bhatia         1650   \n",
       "30  M Muralitharan   1578   \n",
       "... ...              ...    \n",
       "376 S Vidyut         13     \n",
       "377 AA Kazi          12     \n",
       "378 C Munro          12     \n",
       "379 Mandeep Singh    12     \n",
       "380 RR Bhatkal       12     \n",
       "381 RR Bose          12     \n",
       "382 FY Fazal         11     \n",
       "383 S Dube           11     \n",
       "384 Sachin Baby       9     \n",
       "385 BJ Rohrer         7     \n",
       "386 LA Carseldine     7     \n",
       "387 SS Mundhe         7     \n",
       "388 AM Rahane         6     \n",
       "389 B Chipli          6     \n",
       "390 C Ganapathy       6     \n",
       "391 F du Plessis      6     \n",
       "392 H Vihari          6     \n",
       "393 I Malhotra        6     \n",
       "394 KS Williamson     6     \n",
       "395 L Livingstone     6     \n",
       "396 LPC Silva         6     \n",
       "397 P Prasanth        6     \n",
       "398 RA Shaikh         6     \n",
       "399 RA Tripathi       6     \n",
       "400 RS Gavaskar       6     \n",
       "401 SA Yadav          6     \n",
       "402 Y Gnaneswara Rao  6     \n",
       "403 SN Khan           2     \n",
       "404 SPD Smith         2     \n",
       "405 AC Gilchrist      1     "
      ]
     },
     "metadata": {},
     "output_type": "display_data"
    }
   ],
   "source": [
    "bowlers_with_most_wickets <- deliveries %>%\n",
    "                             filter(dismissal_kind != \"run out\") %>%\n",
    "                                group_by( bowler) %>%\n",
    "                                summarize(wickets = n()) %>% \n",
    "                                arrange( desc(wickets))\n",
    "                                \n",
    "bowlers_with_most_wickets "
   ]
  },
  {
   "cell_type": "markdown",
   "id": "e8b1852b",
   "metadata": {},
   "source": [
    "###   11) Has toss winning helped in winning matches?"
   ]
  },
  {
   "cell_type": "code",
   "execution_count": 14,
   "id": "bcdb97eb",
   "metadata": {},
   "outputs": [
    {
     "name": "stdout",
     "output_type": "stream",
     "text": [
      "[1] \"Yes,Toss-winning has an impact of winning a game\"\n",
      "[1] \"Matches won by toss winners are: 393 & Total matches: 756\"\n"
     ]
    },
    {
     "data": {
      "image/png": "[encoded data removed]",
      "text/plain": [
       "plot without title"
      ]
     },
     "metadata": {
      "image/png": {
       "height": 420,
       "width": 420
      }
     },
     "output_type": "display_data"
    }
   ],
   "source": [
    "#Ho: Toss winning has an impact on winning the game.\n",
    "y=0\n",
    "n=0\n",
    "\n",
    "for(i in seq(1, nrow(matches)))\n",
    "{\n",
    "  if(matches$toss_winner[i] == matches$winner[i])\n",
    "    y=y+1\n",
    "  else\n",
    "    n=n+1\n",
    "}\n",
    "if(y>= n)\n",
    "{\n",
    "  print(paste(\"Yes,Toss-winning has an impact of winning a game\"))\n",
    "  print(paste(\"Matches won by toss winners are:\",y, \"& Total matches:\", nrow(matches)))\n",
    "}\n",
    "winning = c(y,n)\n",
    "teams = c(\"toss_win&game_win\", \"toss_win&game_lost\")\n",
    "df = data.frame(teams,winning,stringsAsFactors = FALSE)\n",
    "\n",
    "ggplot(df)+geom_bar(aes(teams,winning,fill=teams),stat = \"identity\")"
   ]
  },
  {
   "cell_type": "markdown",
   "id": "e53cef46",
   "metadata": {},
   "source": [
    "##### Observation : Our null-hypothesis is correct. Toss-winning does have an impact on winning a game."
   ]
  },
  {
   "cell_type": "markdown",
   "id": "dbfe9260",
   "metadata": {},
   "source": [
    "### 12) Batting first has helped to win the match?"
   ]
  },
  {
   "cell_type": "code",
   "execution_count": 15,
   "id": "593d6ca5",
   "metadata": {},
   "outputs": [
    {
     "data": {
      "text/html": [
       "<table class=\"dataframe\">\n",
       "<caption>A tibble: 2 × 2</caption>\n",
       "<thead>\n",
       "\t<tr><th scope=col>Bat.first.or.second</th><th scope=col>count</th></tr>\n",
       "\t<tr><th scope=col>&lt;fct&gt;</th><th scope=col>&lt;dbl&gt;</th></tr>\n",
       "</thead>\n",
       "<tbody>\n",
       "\t<tr><td>Batting first </td><td>293</td></tr>\n",
       "\t<tr><td>Fielding first</td><td>463</td></tr>\n",
       "</tbody>\n",
       "</table>\n"
      ],
      "text/latex": [
       "A tibble: 2 × 2\n",
       "\\begin{tabular}{ll}\n",
       " Bat.first.or.second & count\\\\\n",
       " <fct> & <dbl>\\\\\n",
       "\\hline\n",
       "\t Batting first  & 293\\\\\n",
       "\t Fielding first & 463\\\\\n",
       "\\end{tabular}\n"
      ],
      "text/markdown": [
       "\n",
       "A tibble: 2 × 2\n",
       "\n",
       "| Bat.first.or.second &lt;fct&gt; | count &lt;dbl&gt; |\n",
       "|---|---|\n",
       "| Batting first  | 293 |\n",
       "| Fielding first | 463 |\n",
       "\n"
      ],
      "text/plain": [
       "  Bat.first.or.second count\n",
       "1 Batting first       293  \n",
       "2 Fielding first      463  "
      ]
     },
     "metadata": {},
     "output_type": "display_data"
    }
   ],
   "source": [
    "# Ho: Batting first helps to win the match.\n",
    "\n",
    "toss=matches[matches$toss_decision==\"bat\",]\n",
    "bf=0\n",
    "bl=0\n",
    "i=0\n",
    "for(i in seq(1,nrow(toss)))\n",
    "{\n",
    "  if(as.factor(toss$toss_winner[i]==as.character(toss$winner[i])))\n",
    "  {\n",
    "    bf=bf+1\n",
    "  }\n",
    "  else\n",
    "  {\n",
    "    bl=bl+1\n",
    "  }\n",
    "}\n",
    "\n",
    "toss1=matches[matches$toss_decision==\"field\",]\n",
    "fw=0\n",
    "fl=0\n",
    "j=0\n",
    "for(j in seq(1,nrow(toss1)))\n",
    "{\n",
    "  if(as.factor(toss1$toss_winner[j]==as.character(toss1$winner[j])))\n",
    "  {\n",
    "    fw=fw+1\n",
    "  }\n",
    "  else\n",
    "  {\n",
    "    fl=fl+1\n",
    "  }\n",
    "}\n",
    "toss_decision = data.frame(\"Bat first or second\"=c(\"Batting first\",\"Fielding first\"),\"count\"=c(bf,fw))\n",
    "tibble(toss_decision)"
   ]
  },
  {
   "cell_type": "markdown",
   "id": "56ee8c61",
   "metadata": {},
   "source": [
    "##### Observation :Null-hypothesis stated above is rejected. Opting batting first does not help in winning the game. "
   ]
  },
  {
   "cell_type": "code",
   "execution_count": 16,
   "id": "62a58407",
   "metadata": {},
   "outputs": [
    {
     "data": {
      "image/png": "[encoded data removed]",
      "text/plain": [
       "plot without title"
      ]
     },
     "metadata": {
      "image/png": {
       "height": 420,
       "width": 420
      }
     },
     "output_type": "display_data"
    }
   ],
   "source": [
    "matches%>%filter(city==\"Mumbai\"|city==\"Bangalore\"|city==\"Delhi\"|city==\"kolkata\"|city==\"jaipur\"|city==\"Hydrabad\"|city==\"Chandigarh\"|city==\"pune\")%>% ggplot()+\n",
    "  geom_bar(aes(x=toss_decision,fill=toss_winner))+facet_wrap(~city)"
   ]
  },
  {
   "cell_type": "markdown",
   "id": "e783cda8",
   "metadata": {},
   "source": [
    "### 13)  Winners of IPL by each year/season."
   ]
  },
  {
   "cell_type": "code",
   "execution_count": 17,
   "id": "1af6b892",
   "metadata": {},
   "outputs": [
    {
     "data": {
      "text/html": [
       "<table class=\"dataframe\">\n",
       "<caption>A grouped_df: 12 × 2</caption>\n",
       "<thead>\n",
       "\t<tr><th scope=col>season</th><th scope=col>winner</th></tr>\n",
       "\t<tr><th scope=col>&lt;int&gt;</th><th scope=col>&lt;chr&gt;</th></tr>\n",
       "</thead>\n",
       "<tbody>\n",
       "\t<tr><td>2008</td><td>Rajasthan Royals     </td></tr>\n",
       "\t<tr><td>2009</td><td>Deccan Chargers      </td></tr>\n",
       "\t<tr><td>2010</td><td>Chennai Super Kings  </td></tr>\n",
       "\t<tr><td>2011</td><td>Chennai Super Kings  </td></tr>\n",
       "\t<tr><td>2012</td><td>Kolkata Knight Riders</td></tr>\n",
       "\t<tr><td>2013</td><td>Mumbai Indians       </td></tr>\n",
       "\t<tr><td>2014</td><td>Kolkata Knight Riders</td></tr>\n",
       "\t<tr><td>2015</td><td>Mumbai Indians       </td></tr>\n",
       "\t<tr><td>2016</td><td>Sunrisers Hyderabad  </td></tr>\n",
       "\t<tr><td>2017</td><td>Mumbai Indians       </td></tr>\n",
       "\t<tr><td>2018</td><td>Chennai Super Kings  </td></tr>\n",
       "\t<tr><td>2019</td><td>Mumbai Indians       </td></tr>\n",
       "</tbody>\n",
       "</table>\n"
      ],
      "text/latex": [
       "A grouped\\_df: 12 × 2\n",
       "\\begin{tabular}{ll}\n",
       " season & winner\\\\\n",
       " <int> & <chr>\\\\\n",
       "\\hline\n",
       "\t 2008 & Rajasthan Royals     \\\\\n",
       "\t 2009 & Deccan Chargers      \\\\\n",
       "\t 2010 & Chennai Super Kings  \\\\\n",
       "\t 2011 & Chennai Super Kings  \\\\\n",
       "\t 2012 & Kolkata Knight Riders\\\\\n",
       "\t 2013 & Mumbai Indians       \\\\\n",
       "\t 2014 & Kolkata Knight Riders\\\\\n",
       "\t 2015 & Mumbai Indians       \\\\\n",
       "\t 2016 & Sunrisers Hyderabad  \\\\\n",
       "\t 2017 & Mumbai Indians       \\\\\n",
       "\t 2018 & Chennai Super Kings  \\\\\n",
       "\t 2019 & Mumbai Indians       \\\\\n",
       "\\end{tabular}\n"
      ],
      "text/markdown": [
       "\n",
       "A grouped_df: 12 × 2\n",
       "\n",
       "| season &lt;int&gt; | winner &lt;chr&gt; |\n",
       "|---|---|\n",
       "| 2008 | Rajasthan Royals      |\n",
       "| 2009 | Deccan Chargers       |\n",
       "| 2010 | Chennai Super Kings   |\n",
       "| 2011 | Chennai Super Kings   |\n",
       "| 2012 | Kolkata Knight Riders |\n",
       "| 2013 | Mumbai Indians        |\n",
       "| 2014 | Kolkata Knight Riders |\n",
       "| 2015 | Mumbai Indians        |\n",
       "| 2016 | Sunrisers Hyderabad   |\n",
       "| 2017 | Mumbai Indians        |\n",
       "| 2018 | Chennai Super Kings   |\n",
       "| 2019 | Mumbai Indians        |\n",
       "\n"
      ],
      "text/plain": [
       "   season winner               \n",
       "1  2008   Rajasthan Royals     \n",
       "2  2009   Deccan Chargers      \n",
       "3  2010   Chennai Super Kings  \n",
       "4  2011   Chennai Super Kings  \n",
       "5  2012   Kolkata Knight Riders\n",
       "6  2013   Mumbai Indians       \n",
       "7  2014   Kolkata Knight Riders\n",
       "8  2015   Mumbai Indians       \n",
       "9  2016   Sunrisers Hyderabad  \n",
       "10 2017   Mumbai Indians       \n",
       "11 2018   Chennai Super Kings  \n",
       "12 2019   Mumbai Indians       "
      ]
     },
     "metadata": {},
     "output_type": "display_data"
    }
   ],
   "source": [
    "matches %>%\n",
    "  select(season, id, winner)%>%\n",
    "  group_by(season)%>%\n",
    "  slice(which.max(id))%>%\n",
    "  select(season,winner)"
   ]
  },
  {
   "cell_type": "markdown",
   "id": "6af202fa",
   "metadata": {},
   "source": [
    "##### Observation : Highest number of IPL title is won by Mumbai Indians. "
   ]
  },
  {
   "cell_type": "markdown",
   "id": "bb40da0e",
   "metadata": {},
   "source": [
    "### 14) Best stadiums to win by a large margin of runs "
   ]
  },
  {
   "cell_type": "code",
   "execution_count": 18,
   "id": "618d846e",
   "metadata": {},
   "outputs": [
    {
     "data": {
      "image/png": "[encoded data removed]",
      "text/plain": [
       "plot without title"
      ]
     },
     "metadata": {
      "image/png": {
       "height": 420,
       "width": 420
      }
     },
     "output_type": "display_data"
    }
   ],
   "source": [
    "ggplot(matches,aes(win_by_runs, venue, colour = winner)) + geom_count() + \n",
    "ggtitle(\"Best Stadium for winning by runs\")\n"
   ]
  },
  {
   "cell_type": "markdown",
   "id": "47e339d0",
   "metadata": {},
   "source": [
    "### 15) Best Defending Team "
   ]
  },
  {
   "cell_type": "code",
   "execution_count": 19,
   "id": "cd815992",
   "metadata": {},
   "outputs": [
    {
     "data": {
      "image/png": "[encoded data removed]",
      "text/plain": [
       "plot without title"
      ]
     },
     "metadata": {
      "image/png": {
       "height": 420,
       "width": 420
      }
     },
     "output_type": "display_data"
    }
   ],
   "source": [
    "ggplot(matches,aes(win_by_runs, winner, colour = winner)) + geom_point() + \n",
    "ggtitle(\"Best Defending Team\") "
   ]
  },
  {
   "cell_type": "markdown",
   "id": "cf6e7200",
   "metadata": {},
   "source": [
    "### 16) Batsmen with highest number of 6's"
   ]
  },
  {
   "cell_type": "code",
   "execution_count": 20,
   "id": "b2b77fd3",
   "metadata": {},
   "outputs": [
    {
     "name": "stderr",
     "output_type": "stream",
     "text": [
      "Selecting by sixes\n",
      "\n"
     ]
    },
    {
     "data": {
      "image/png": "[encoded data removed]",
      "text/plain": [
       "plot without title"
      ]
     },
     "metadata": {
      "image/png": {
       "height": 420,
       "width": 420
      }
     },
     "output_type": "display_data"
    }
   ],
   "source": [
    "deliveries %>% \n",
    "  group_by(batsman) %>%\n",
    "  filter(batsman_runs == 6) %>%\n",
    "  dplyr:: summarize(sixes = n()) %>%\n",
    "  top_n(10) %>%\n",
    "  ggplot(aes(x = reorder(batsman, sixes), y = sixes, fill= batsman))+\n",
    "  geom_bar(stat = \"identity\")+\n",
    "  coord_flip()+\n",
    "  xlab(\"players\")+\n",
    "  ggtitle(\"Top 10 batsman with highest number of 6's in ipl\")+\n",
    "geom_text(aes(label = sixes), hjust = 1.25)"
   ]
  },
  {
   "cell_type": "markdown",
   "id": "ddc63496",
   "metadata": {},
   "source": [
    "### 17) Number of time players got awarded man of the match."
   ]
  },
  {
   "cell_type": "code",
   "execution_count": 21,
   "id": "1b2c5c3e",
   "metadata": {},
   "outputs": [
    {
     "name": "stderr",
     "output_type": "stream",
     "text": [
      "Selecting by awards\n",
      "\n"
     ]
    },
    {
     "data": {
      "image/png": "[encoded data removed]",
      "text/plain": [
       "plot without title"
      ]
     },
     "metadata": {
      "image/png": {
       "height": 420,
       "width": 420
      }
     },
     "output_type": "display_data"
    }
   ],
   "source": [
    "matches%>%\n",
    "  group_by(player_of_match)%>%\n",
    "  dplyr::summarise(awards =n())%>%\n",
    "  top_n(10)%>%\n",
    "  ggplot(aes(x = reorder(player_of_match, awards), y = awards ,fill= player_of_match))+\n",
    "  geom_bar(stat = \"identity\")+\n",
    "  coord_flip()+\n",
    "  xlab(\"players\") +\n",
    "  geom_text(aes(label = awards), hjust = 1.25)"
   ]
  },
  {
   "cell_type": "markdown",
   "id": "5e1fe905",
   "metadata": {},
   "source": [
    "## Step 5: Conclusion\n",
    "### 1) Most successful teams and players\n",
    "####      -> The most successful team is Mumbai Indians with 4 IPL wins and 109 wins overall, followed by Chennai Super Kings and Kolkata Knight Riders. \n",
    "####      -> The player with most player of the match award is CH Gayle(21), followed by AB de Villers(20) and RG sharma, MS Dhoni, DA Warner with 17 awards.\n",
    "\n",
    "### 2) Factors contributing to win/loss\n",
    "####     ->Toss winning has an impact on winning the match.\n",
    "####     ->For some teams, stadiums(venue) for the match also played an important role in winning the game.\n",
    "\n",
    "### 3) Suggest teams or players a company should endorse for its products.\n",
    "####     ->The teams that should be considered for endorsement are Mumbai Indians,  Chennai Super Kings and Kolkata Knight Riders. \n",
    "####     ->The players that should be considered for endorsement are CH Gayle, AB de Villiers, Virat Kohli, Rohit Sharma, MS Dhoni, Harbhajan Singh, Amit Mishra, D Chahar, Rashid Khan and Jaspreet Bumrah."
   ]
  }
 ],
 "metadata": {
  "kernelspec": {
   "display_name": "R",
   "language": "R",
   "name": "ir"
  },
  "language_info": {
   "codemirror_mode": "r",
   "file_extension": ".r",
   "mimetype": "text/x-r-source",
   "name": "R",
   "pygments_lexer": "r",
   "version": "3.6.0"
  }
 },
 "nbformat": 4,
 "nbformat_minor": 5
}
